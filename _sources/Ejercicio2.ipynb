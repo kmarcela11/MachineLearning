{
  "cells": [
    {
      "cell_type": "code",
      "execution_count": 1,
      "metadata": {
        "colab": {
          "base_uri": "https://localhost:8080/"
        },
        "id": "co_klGbtQAVM",
        "outputId": "7c4d54db-665c-4525-f041-19e3798b6455"
      },
      "outputs": [
        {
          "name": "stdout",
          "output_type": "stream",
          "text": [
            "⏬ Downloading https://github.com/conda-forge/miniforge/releases/download/23.11.0-0/Mambaforge-23.11.0-0-Linux-x86_64.sh...\n",
            "📦 Installing...\n",
            "📌 Adjusting configuration...\n",
            "🩹 Patching environment...\n",
            "⏲ Done in 0:00:07\n",
            "🔁 Restarting kernel...\n"
          ]
        }
      ],
      "source": [
        "!pip install -q condacolab\n",
        "import condacolab\n",
        "condacolab.install()"
      ]
    },
    {
      "cell_type": "code",
      "execution_count": 1,
      "metadata": {
        "colab": {
          "base_uri": "https://localhost:8080/"
        },
        "id": "mepPWpncPicf",
        "outputId": "86e9a718-4efb-43a6-89e1-cdeb0da87615"
      },
      "outputs": [
        {
          "name": "stdout",
          "output_type": "stream",
          "text": [
            "\n",
            "Looking for: ['rdkit']\n",
            "\n",
            "conda-forge/linux-64                                        Using cache\n",
            "conda-forge/noarch                                          Using cache\n",
            "\n",
            "Pinned packages:\n",
            "  - python 3.10.*\n",
            "  - python 3.10.*\n",
            "  - python_abi 3.10.* *cp310*\n",
            "  - cudatoolkit *.*.*\n",
            "\n",
            "\n",
            "Transaction\n",
            "\n",
            "  Prefix: /usr/local\n",
            "\n",
            "  All requested packages already installed\n",
            "\n",
            "\u001b[?25l\u001b[2K\u001b[0G\u001b[?25h"
          ]
        }
      ],
      "source": [
        "!mamba install -c conda-forge rdkit"
      ]
    },
    {
      "cell_type": "code",
      "execution_count": 2,
      "metadata": {
        "id": "QuFPkCdXPm34"
      },
      "outputs": [],
      "source": [
        "import pandas as pd\n",
        "import seaborn as sns\n",
        "import matplotlib.pyplot as plt\n",
        "\n",
        "from rdkit import Chem\n",
        "from rdkit.Chem import Draw\n",
        "\n",
        "from IPython.display import display"
      ]
    },
    {
      "cell_type": "code",
      "execution_count": 3,
      "metadata": {
        "colab": {
          "base_uri": "https://localhost:8080/"
        },
        "id": "d2RZaweQpQxd",
        "outputId": "e1afd02e-e3eb-43af-88fb-8c2de25577bf"
      },
      "outputs": [
        {
          "name": "stdout",
          "output_type": "stream",
          "text": [
            "Mounted at /content/drive\n"
          ]
        }
      ],
      "source": [
        "from google.colab import drive\n",
        "drive.mount('/content/drive')"
      ]
    },
    {
      "cell_type": "code",
      "execution_count": 4,
      "metadata": {
        "colab": {
          "base_uri": "https://localhost:8080/"
        },
        "id": "e618SBrlzicB",
        "outputId": "eb32276a-0699-4fa4-ff0e-9d949d38c5c1"
      },
      "outputs": [
        {
          "name": "stdout",
          "output_type": "stream",
          "text": [
            "/content/drive/.shortcut-targets-by-id/1lU6QjJaBcElIvfuufmZL2sO12RkRuYUm/Data\n"
          ]
        }
      ],
      "source": [
        "cd /content/drive/MyDrive/Data"
      ]
    },
    {
      "cell_type": "code",
      "execution_count": 5,
      "metadata": {
        "colab": {
          "base_uri": "https://localhost:8080/"
        },
        "id": "Fn80uSYp1ITK",
        "outputId": "fb27829e-1302-41e5-d295-699f4857c49e"
      },
      "outputs": [
        {
          "name": "stdout",
          "output_type": "stream",
          "text": [
            "adata_excluded_ids.csv  condacolab_install.log  leash-BELKA.zip         multiome_var_meta.csv\n",
            "adata_obs_meta.csv      de_train.parquet        multiome_obs_meta.csv   sample_submission.csv\n",
            "adata_train.parquet     id_map.csv              multiome_train.parquet\n"
          ]
        }
      ],
      "source": [
        "ls"
      ]
    },
    {
      "cell_type": "markdown",
      "metadata": {
        "id": "1ZVSxIrTwEQi"
      },
      "source": [
        "## Importar bases\n"
      ]
    },
    {
      "cell_type": "code",
      "execution_count": 6,
      "metadata": {
        "id": "TiOht3l4wI4d"
      },
      "outputs": [],
      "source": [
        "adata_excluded = pd.read_csv('adata_excluded_ids.csv')"
      ]
    },
    {
      "cell_type": "code",
      "execution_count": 7,
      "metadata": {
        "id": "a6F6nH6P3vI3"
      },
      "outputs": [],
      "source": [
        "adata_obs = pd.read_csv('adata_obs_meta.csv')"
      ]
    },
    {
      "cell_type": "code",
      "execution_count": 8,
      "metadata": {
        "id": "jSmuEatz319Y"
      },
      "outputs": [],
      "source": [
        "adata_train = pd.read_parquet('adata_train.parquet')"
      ]
    },
    {
      "cell_type": "code",
      "execution_count": 9,
      "metadata": {
        "id": "neTEBS994IMl"
      },
      "outputs": [],
      "source": [
        "de_train = pd.read_parquet('de_train.parquet')"
      ]
    },
    {
      "cell_type": "code",
      "execution_count": 10,
      "metadata": {
        "id": "bdiN5w0c4Las"
      },
      "outputs": [],
      "source": [
        "id_map = pd.read_csv('id_map.csv')"
      ]
    },
    {
      "cell_type": "code",
      "execution_count": 11,
      "metadata": {
        "id": "qG1gCi1-4kbi"
      },
      "outputs": [],
      "source": [
        "multiome_obs = pd.read_csv('multiome_obs_meta.csv')"
      ]
    },
    {
      "cell_type": "code",
      "execution_count": 12,
      "metadata": {
        "id": "OyFXM2jK4u4O"
      },
      "outputs": [],
      "source": [
        "multiome_train = pd.read_parquet('multiome_train.parquet')"
      ]
    },
    {
      "cell_type": "code",
      "execution_count": 13,
      "metadata": {
        "id": "ABUNeM9543ip"
      },
      "outputs": [],
      "source": [
        "multiome_var = pd.read_csv('multiome_var_meta.csv')"
      ]
    },
    {
      "cell_type": "code",
      "execution_count": 14,
      "metadata": {
        "id": "wxFaZtTA5PcY"
      },
      "outputs": [],
      "source": [
        "sample_submission = pd.read_csv('sample_submission.csv')"
      ]
    }
  ],
  "metadata": {
    "accelerator": "TPU",
    "colab": {
      "gpuType": "V28",
      "machine_shape": "hm",
      "provenance": [],
      "toc_visible": true
    },
    "kernelspec": {
      "display_name": "Python 3",
      "name": "python3"
    },
    "language_info": {
      "name": "python",
      "version": "3.9.19"
    }
  },
  "nbformat": 4,
  "nbformat_minor": 0
}
