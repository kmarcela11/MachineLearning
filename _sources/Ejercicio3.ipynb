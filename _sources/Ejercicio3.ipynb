{
 "cells": [
  {
   "cell_type": "markdown",
   "metadata": {},
   "source": [
    " # **Ejercicio 3**\n",
    " ## **Modelos de Clasificación**. \n",
    "Considere el conjunto de datos `NeurIPS 2024- Predict New Medicines with BELKA`. Implemente la versión de clasificación para cada uno de los modelos estudiados en clases, esto es Regresión Logística y KNN. Construir una tabla de error que contenga las métricas usuales de clasificación: precission, recall, f1-score, AUC. Además, agregue matrices de confusión (ver confusion_matrix) y curvas ROC (ver plot_roc). Puede utilizar la librería GridSearchCV y Pipeline para evaluar cada modelo. Verifique que la validación cruzada seleccionada es la adecuada, y justifíquelo. Utilice la métrica AUC, para seleccionar el mejor modelo de clasificación (maximizar AUC). Los resultados deben estar registrados en una tabla de error (ver Tabla 1) que resuma cada score obtenido por modelo implementado."
   ]
  },
  {
   "cell_type": "markdown",
   "metadata": {},
   "source": [
    "**Cuadro 1: Modelo de clasificació para detección de fraude**\n",
    "\n",
    "| **Modelo**            | **precision** | **recall** | **f1-score** | **AUC** |\n",
    "|-----------------------|---------------|------------|--------------|---------|\n",
    "| K-NN                  | ...        | ...          | ...           | ...       |\n",
    "| Logistic Regression   | ...           | ...          | ...            | ...       |\n",
    "\n",
    "\n",
    "\n"
   ]
  }
 ],
 "metadata": {
  "kernelspec": {
   "display_name": "data_viz",
   "language": "python",
   "name": "python3"
  },
  "language_info": {
   "name": "python",
   "version": "3.9.19"
  }
 },
 "nbformat": 4,
 "nbformat_minor": 2
}
