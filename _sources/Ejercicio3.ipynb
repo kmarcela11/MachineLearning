{
  "cells": [
    {
      "cell_type": "markdown",
      "metadata": {
        "id": "f4j2FOvFAzfb"
      },
      "source": [
        " # **Ejercicio 3**\n",
        " # **Predict New Medicines with BELKA**\n",
        " ## **Modelos de Clasificación**.\n",
        "Considere el conjunto de datos `NeurIPS 2024- Predict New Medicines with BELKA`. Implemente la versión de clasificación para cada uno de los modelos estudiados en clases, esto es Regresión Logística y KNN. Construir una tabla de error que contenga las métricas usuales de clasificación: precission, recall, f1-score, AUC. Además, agregue matrices de confusión (ver confusion_matrix) y curvas ROC (ver plot_roc). Puede utilizar la librería GridSearchCV y Pipeline para evaluar cada modelo. Verifique que la validación cruzada seleccionada es la adecuada, y justifíquelo. Utilice la métrica AUC, para seleccionar el mejor modelo de clasificación (maximizar AUC). Los resultados deben estar registrados en una tabla de error (ver Tabla 1) que resuma cada score obtenido por modelo implementado."
      ]
    },
    {
      "cell_type": "markdown",
      "metadata": {
        "id": "yTc0Hb3ZAzfg"
      },
      "source": [
        "**Cuadro 1: Modelo de clasificación para detección de fraude**\n",
        "\n",
        "| **Modelo**            | **precision** | **recall** | **f1-score** | **AUC** |\n",
        "|-----------------------|---------------|------------|--------------|---------|\n",
        "| K-NN                  | ...        | ...          | ...           | ...       |\n",
        "| Logistic Regression   | ...           | ...          | ...            | ...       |\n",
        "\n",
        "\n",
        "\n"
      ]
    },
    {
      "cell_type": "markdown",
      "metadata": {
        "id": "ZB7kShYkAzfh"
      },
      "source": [
        "## **Librerías y módulos necesarios**"
      ]
    },
    {
      "cell_type": "code",
      "execution_count": 1,
      "metadata": {
        "id": "vpodzHwmAzfi"
      },
      "outputs": [],
      "source": [
        "import pandas as pd\n",
        "import seaborn as sns\n",
        "import matplotlib.pyplot as plt\n",
        "from sklearn.pipeline import Pipeline\n",
        "from matplotlib.colors import LinearSegmentedColormap\n",
        "from sklearn.preprocessing import StandardScaler\n",
        "from sklearn.preprocessing import MinMaxScaler\n",
        "from sklearn.neighbors import KNeighborsClassifier\n",
        "from sklearn.linear_model import LogisticRegression\n",
        "from sklearn.model_selection import GridSearchCV\n",
        "from sklearn.model_selection import StratifiedKFold\n",
        "from sklearn.model_selection import train_test_split\n",
        "from sklearn.metrics import precision_score, recall_score, f1_score, roc_auc_score\n",
        "from sklearn.metrics import confusion_matrix\n",
        "from sklearn.metrics import roc_curve, roc_auc_score"
      ]
    },
    {
      "cell_type": "markdown",
      "metadata": {
        "id": "etMpOfxEAzfj"
      },
      "source": [
        "## **Bases de datos**"
      ]
    },
    {
      "cell_type": "markdown",
      "metadata": {
        "id": "O3avhYFu9aTD"
      },
      "source": [
        "Después de realizar el análisis descriptivo de la base de datos y codificar las variables, los datos se filtraron por proteínas y se dividieron en tres conjuntos. Cada uno de estos conjuntos contiene 100,000 observaciones por proteína, y para facilitar su manejo, los resultados se guardaron en formato CSV.\n",
        "\n",
        "Los tres archivos resultantes, que serán leídos posteriormente, son:\n",
        "\n",
        "*   `proteina1.csv`: Datos filtrados para la proteína SEH.\n",
        "*   `proteina2.csv`: Datos filtrados para la proteína BRD4.\n",
        "*   `proteina3.csv`: Datos filtrados para la proteína HSA."
      ]
    },
    {
      "cell_type": "code",
      "execution_count": 3,
      "metadata": {
        "id": "8YNJH58UAzfk"
      },
      "outputs": [],
      "source": [
        "proteina1 = pd.read_csv('C:/Users/kamac/OneDrive/Desktop/MachineLearningUN/proteina1.csv')\n",
        "proteina2 = pd.read_csv('C:/Users/kamac/OneDrive/Desktop/MachineLearningUN/proteina2.csv')\n",
        "proteina3 = pd.read_csv('C:/Users/kamac/OneDrive/Desktop/MachineLearningUN/proteina3.csv')"
      ]
    },
    {
      "cell_type": "markdown",
      "metadata": {},
      "source": [
        "## **Notas**"
      ]
    },
    {
      "cell_type": "markdown",
      "metadata": {},
      "source": [
        "Para la implementación de cada modelo (`KNN` y `LogisticRegression`) correspondiente a cada proteína se tendrá en cuenta lo siguiente:\n",
        "\n",
        "- Para dividir el conjunto de datos en conjuntos de entrenamiento y prueba, se usará `stratify = y`, con el objetivo de mantener la proporción de la clase en ambos conjuntos, dependiendo de la proporción del conjunto de etiquetas. \n",
        "\n",
        "- En cada uno de los `pipelines` construidos se hará uso de un scaler estándar `StandardScaler`. Esto ayuda a ajustar las características de los datos para que tengan una media de 0 y una desviación estándar de 1. Esto es especialmente importante para algoritmos como `KNN` y `LogisticRegression`, ya que su rendimiento puede verse afectado por la escala de las características. En el caso de `KNN`, la distancia entre puntos es fundamental para realizar predicciones, y una escala inapropiada podría dar mayor peso a ciertas características. En `LogisticRegression`, una escala uniforme asegura que el algoritmo pueda optimizar eficientemente los coeficientes sin que las características de mayor magnitud dominen.\n",
        "\n",
        "- En la validación cruzada se usará `StratifiedKFold` dado la naturaleza de los datos. Al usar `StratifiedKFold` nos aseguramos de que cada pliegue contenga aproximadamente la misma proporción de clases que en el conjunto de datos original. Esto garantiza una evaluación más consistente de los modelos, especialmente en escenarios como este conjunto de datos donde existe un desequilibrio de clases. Esto también ayuda a evitar problemas de sobreajuste o subajuste debido a la distribución desequilibrada de los datos en los pliegues.\n",
        "\n",
        "- Finalmente, se usará como métrica AUC, ya que permite medir el rendimiento del modelo en términos de su capacidad para distinguir entre las clases. AUC es especialmente útil en problemas de clasificación binaria y con clases desbalanceadas como este caso, dado que considera tanto la tasa de verdaderos positivos como la tasa de falsos positivos, proporcionando una visión más completa del rendimiento del modelo.\n"
      ]
    },
    {
      "cell_type": "markdown",
      "metadata": {
        "id": "3nqq8nDvAzfn"
      },
      "source": [
        "## **Modelos proteína 1 (SEH)**\n"
      ]
    },
    {
      "cell_type": "markdown",
      "metadata": {
        "id": "nHzrs37MDEkh"
      },
      "source": [
        "Se verifica que se hayan leído los datos correctamente con el método `head()`\n",
        "para visualizar las primeras filas y usando el atributo `shape` para revisar que se hayan leído todas las filas y columnas."
      ]
    },
    {
      "cell_type": "code",
      "execution_count": 4,
      "metadata": {
        "colab": {
          "base_uri": "https://localhost:8080/",
          "height": 290
        },
        "id": "ZVdobHCKAzfn",
        "outputId": "2f48597f-c5bd-4acb-cdd0-54b2b9a70949"
      },
      "outputs": [
        {
          "data": {
            "text/html": [
              "<div>\n",
              "<style scoped>\n",
              "    .dataframe tbody tr th:only-of-type {\n",
              "        vertical-align: middle;\n",
              "    }\n",
              "\n",
              "    .dataframe tbody tr th {\n",
              "        vertical-align: top;\n",
              "    }\n",
              "\n",
              "    .dataframe thead th {\n",
              "        text-align: right;\n",
              "    }\n",
              "</style>\n",
              "<table border=\"1\" class=\"dataframe\">\n",
              "  <thead>\n",
              "    <tr style=\"text-align: right;\">\n",
              "      <th></th>\n",
              "      <th>binds</th>\n",
              "      <th>buildingblock1_smiles_O=C(NC(Cc1ccccc1)C(=O)O)OCC1c2ccccc2-c2ccccc21</th>\n",
              "      <th>buildingblock1_smiles_O=C(NCC1CCC(C(=O)O)CC1)OCC1c2ccccc2-c2ccccc21</th>\n",
              "      <th>buildingblock1_smiles_O=C(NC[C@H]1CC[C@H](C(=O)O)CC1)OCC1c2ccccc2-c2ccccc21</th>\n",
              "      <th>buildingblock1_smiles_O=C(N[C@@H](Cc1cccnc1)C(=O)O)OCC1c2ccccc2-c2ccccc21</th>\n",
              "      <th>buildingblock1_smiles_O=C(N[C@H](Cc1ccc(F)c(F)c1)C(=O)O)OCC1c2ccccc2-c2ccccc21</th>\n",
              "      <th>buildingblock1_smiles_O=C(Nc1ccc(C(=O)O)cc1)OCC1c2ccccc2-c2ccccc21</th>\n",
              "      <th>buildingblock1_smiles_O=C(Nc1ccc(C(=O)O)cc1O)OCC1c2ccccc2-c2ccccc21</th>\n",
              "      <th>buildingblock1_smiles_O=C(Nc1ccc(C(=O)O)nc1)OCC1c2ccccc2-c2ccccc21</th>\n",
              "      <th>buildingblock1_smiles_O=C(Nc1cnccc1C(=O)O)OCC1c2ccccc2-c2ccccc21</th>\n",
              "      <th>...</th>\n",
              "      <th>buildingblock3_smiles_Nc1c2c(cc3c1CCC3)CCC2</th>\n",
              "      <th>buildingblock3_smiles_Nc1cc(C(F)(F)F)cc(C(F)(F)F)c1</th>\n",
              "      <th>buildingblock3_smiles_Nc1cc(Cl)ccc1F</th>\n",
              "      <th>buildingblock3_smiles_Nc1cc(F)c(F)cc1[N+](=O)[O-]</th>\n",
              "      <th>buildingblock3_smiles_Nc1ccc2c(c1)CNCC2</th>\n",
              "      <th>buildingblock3_smiles_Nc1cccc2ocnc12</th>\n",
              "      <th>buildingblock3_smiles_Nc1cncc(F)c1</th>\n",
              "      <th>buildingblock3_smiles_Nc1n[nH]c2ccc([N+](=O)[O-])cc12</th>\n",
              "      <th>buildingblock3_smiles_Nc1nc(NCc2ccc(F)cc2)ccc1[N+](=O)[O-]</th>\n",
              "      <th>buildingblock3_smiles_Nc1ncco1</th>\n",
              "    </tr>\n",
              "  </thead>\n",
              "  <tbody>\n",
              "    <tr>\n",
              "      <th>0</th>\n",
              "      <td>0</td>\n",
              "      <td>0.0</td>\n",
              "      <td>0.0</td>\n",
              "      <td>0.0</td>\n",
              "      <td>0.0</td>\n",
              "      <td>0.0</td>\n",
              "      <td>0.0</td>\n",
              "      <td>0.0</td>\n",
              "      <td>0.0</td>\n",
              "      <td>0.0</td>\n",
              "      <td>...</td>\n",
              "      <td>0.0</td>\n",
              "      <td>0.0</td>\n",
              "      <td>0.0</td>\n",
              "      <td>0.0</td>\n",
              "      <td>0.0</td>\n",
              "      <td>0.0</td>\n",
              "      <td>0.0</td>\n",
              "      <td>0.0</td>\n",
              "      <td>0.0</td>\n",
              "      <td>0.0</td>\n",
              "    </tr>\n",
              "    <tr>\n",
              "      <th>1</th>\n",
              "      <td>0</td>\n",
              "      <td>0.0</td>\n",
              "      <td>0.0</td>\n",
              "      <td>0.0</td>\n",
              "      <td>0.0</td>\n",
              "      <td>0.0</td>\n",
              "      <td>0.0</td>\n",
              "      <td>0.0</td>\n",
              "      <td>0.0</td>\n",
              "      <td>0.0</td>\n",
              "      <td>...</td>\n",
              "      <td>0.0</td>\n",
              "      <td>0.0</td>\n",
              "      <td>0.0</td>\n",
              "      <td>0.0</td>\n",
              "      <td>0.0</td>\n",
              "      <td>0.0</td>\n",
              "      <td>0.0</td>\n",
              "      <td>0.0</td>\n",
              "      <td>0.0</td>\n",
              "      <td>0.0</td>\n",
              "    </tr>\n",
              "    <tr>\n",
              "      <th>2</th>\n",
              "      <td>0</td>\n",
              "      <td>0.0</td>\n",
              "      <td>0.0</td>\n",
              "      <td>0.0</td>\n",
              "      <td>0.0</td>\n",
              "      <td>0.0</td>\n",
              "      <td>0.0</td>\n",
              "      <td>0.0</td>\n",
              "      <td>0.0</td>\n",
              "      <td>0.0</td>\n",
              "      <td>...</td>\n",
              "      <td>0.0</td>\n",
              "      <td>0.0</td>\n",
              "      <td>0.0</td>\n",
              "      <td>0.0</td>\n",
              "      <td>0.0</td>\n",
              "      <td>0.0</td>\n",
              "      <td>0.0</td>\n",
              "      <td>0.0</td>\n",
              "      <td>0.0</td>\n",
              "      <td>0.0</td>\n",
              "    </tr>\n",
              "    <tr>\n",
              "      <th>3</th>\n",
              "      <td>0</td>\n",
              "      <td>0.0</td>\n",
              "      <td>0.0</td>\n",
              "      <td>0.0</td>\n",
              "      <td>0.0</td>\n",
              "      <td>0.0</td>\n",
              "      <td>0.0</td>\n",
              "      <td>0.0</td>\n",
              "      <td>0.0</td>\n",
              "      <td>0.0</td>\n",
              "      <td>...</td>\n",
              "      <td>0.0</td>\n",
              "      <td>0.0</td>\n",
              "      <td>0.0</td>\n",
              "      <td>0.0</td>\n",
              "      <td>0.0</td>\n",
              "      <td>0.0</td>\n",
              "      <td>0.0</td>\n",
              "      <td>0.0</td>\n",
              "      <td>0.0</td>\n",
              "      <td>0.0</td>\n",
              "    </tr>\n",
              "    <tr>\n",
              "      <th>4</th>\n",
              "      <td>0</td>\n",
              "      <td>0.0</td>\n",
              "      <td>0.0</td>\n",
              "      <td>0.0</td>\n",
              "      <td>0.0</td>\n",
              "      <td>0.0</td>\n",
              "      <td>0.0</td>\n",
              "      <td>0.0</td>\n",
              "      <td>0.0</td>\n",
              "      <td>0.0</td>\n",
              "      <td>...</td>\n",
              "      <td>0.0</td>\n",
              "      <td>0.0</td>\n",
              "      <td>0.0</td>\n",
              "      <td>0.0</td>\n",
              "      <td>0.0</td>\n",
              "      <td>0.0</td>\n",
              "      <td>0.0</td>\n",
              "      <td>0.0</td>\n",
              "      <td>0.0</td>\n",
              "      <td>0.0</td>\n",
              "    </tr>\n",
              "  </tbody>\n",
              "</table>\n",
              "<p>5 rows × 100 columns</p>\n",
              "</div>"
            ],
            "text/plain": [
              "   binds  \\\n",
              "0      0   \n",
              "1      0   \n",
              "2      0   \n",
              "3      0   \n",
              "4      0   \n",
              "\n",
              "   buildingblock1_smiles_O=C(NC(Cc1ccccc1)C(=O)O)OCC1c2ccccc2-c2ccccc21  \\\n",
              "0                                                0.0                      \n",
              "1                                                0.0                      \n",
              "2                                                0.0                      \n",
              "3                                                0.0                      \n",
              "4                                                0.0                      \n",
              "\n",
              "   buildingblock1_smiles_O=C(NCC1CCC(C(=O)O)CC1)OCC1c2ccccc2-c2ccccc21  \\\n",
              "0                                                0.0                     \n",
              "1                                                0.0                     \n",
              "2                                                0.0                     \n",
              "3                                                0.0                     \n",
              "4                                                0.0                     \n",
              "\n",
              "   buildingblock1_smiles_O=C(NC[C@H]1CC[C@H](C(=O)O)CC1)OCC1c2ccccc2-c2ccccc21  \\\n",
              "0                                                0.0                             \n",
              "1                                                0.0                             \n",
              "2                                                0.0                             \n",
              "3                                                0.0                             \n",
              "4                                                0.0                             \n",
              "\n",
              "   buildingblock1_smiles_O=C(N[C@@H](Cc1cccnc1)C(=O)O)OCC1c2ccccc2-c2ccccc21  \\\n",
              "0                                                0.0                           \n",
              "1                                                0.0                           \n",
              "2                                                0.0                           \n",
              "3                                                0.0                           \n",
              "4                                                0.0                           \n",
              "\n",
              "   buildingblock1_smiles_O=C(N[C@H](Cc1ccc(F)c(F)c1)C(=O)O)OCC1c2ccccc2-c2ccccc21  \\\n",
              "0                                                0.0                                \n",
              "1                                                0.0                                \n",
              "2                                                0.0                                \n",
              "3                                                0.0                                \n",
              "4                                                0.0                                \n",
              "\n",
              "   buildingblock1_smiles_O=C(Nc1ccc(C(=O)O)cc1)OCC1c2ccccc2-c2ccccc21  \\\n",
              "0                                                0.0                    \n",
              "1                                                0.0                    \n",
              "2                                                0.0                    \n",
              "3                                                0.0                    \n",
              "4                                                0.0                    \n",
              "\n",
              "   buildingblock1_smiles_O=C(Nc1ccc(C(=O)O)cc1O)OCC1c2ccccc2-c2ccccc21  \\\n",
              "0                                                0.0                     \n",
              "1                                                0.0                     \n",
              "2                                                0.0                     \n",
              "3                                                0.0                     \n",
              "4                                                0.0                     \n",
              "\n",
              "   buildingblock1_smiles_O=C(Nc1ccc(C(=O)O)nc1)OCC1c2ccccc2-c2ccccc21  \\\n",
              "0                                                0.0                    \n",
              "1                                                0.0                    \n",
              "2                                                0.0                    \n",
              "3                                                0.0                    \n",
              "4                                                0.0                    \n",
              "\n",
              "   buildingblock1_smiles_O=C(Nc1cnccc1C(=O)O)OCC1c2ccccc2-c2ccccc21  ...  \\\n",
              "0                                                0.0                 ...   \n",
              "1                                                0.0                 ...   \n",
              "2                                                0.0                 ...   \n",
              "3                                                0.0                 ...   \n",
              "4                                                0.0                 ...   \n",
              "\n",
              "   buildingblock3_smiles_Nc1c2c(cc3c1CCC3)CCC2  \\\n",
              "0                                          0.0   \n",
              "1                                          0.0   \n",
              "2                                          0.0   \n",
              "3                                          0.0   \n",
              "4                                          0.0   \n",
              "\n",
              "   buildingblock3_smiles_Nc1cc(C(F)(F)F)cc(C(F)(F)F)c1  \\\n",
              "0                                                0.0     \n",
              "1                                                0.0     \n",
              "2                                                0.0     \n",
              "3                                                0.0     \n",
              "4                                                0.0     \n",
              "\n",
              "   buildingblock3_smiles_Nc1cc(Cl)ccc1F  \\\n",
              "0                                   0.0   \n",
              "1                                   0.0   \n",
              "2                                   0.0   \n",
              "3                                   0.0   \n",
              "4                                   0.0   \n",
              "\n",
              "   buildingblock3_smiles_Nc1cc(F)c(F)cc1[N+](=O)[O-]  \\\n",
              "0                                                0.0   \n",
              "1                                                0.0   \n",
              "2                                                0.0   \n",
              "3                                                0.0   \n",
              "4                                                0.0   \n",
              "\n",
              "   buildingblock3_smiles_Nc1ccc2c(c1)CNCC2  \\\n",
              "0                                      0.0   \n",
              "1                                      0.0   \n",
              "2                                      0.0   \n",
              "3                                      0.0   \n",
              "4                                      0.0   \n",
              "\n",
              "   buildingblock3_smiles_Nc1cccc2ocnc12  buildingblock3_smiles_Nc1cncc(F)c1  \\\n",
              "0                                   0.0                                 0.0   \n",
              "1                                   0.0                                 0.0   \n",
              "2                                   0.0                                 0.0   \n",
              "3                                   0.0                                 0.0   \n",
              "4                                   0.0                                 0.0   \n",
              "\n",
              "   buildingblock3_smiles_Nc1n[nH]c2ccc([N+](=O)[O-])cc12  \\\n",
              "0                                                0.0       \n",
              "1                                                0.0       \n",
              "2                                                0.0       \n",
              "3                                                0.0       \n",
              "4                                                0.0       \n",
              "\n",
              "   buildingblock3_smiles_Nc1nc(NCc2ccc(F)cc2)ccc1[N+](=O)[O-]  \\\n",
              "0                                                0.0            \n",
              "1                                                0.0            \n",
              "2                                                0.0            \n",
              "3                                                0.0            \n",
              "4                                                0.0            \n",
              "\n",
              "   buildingblock3_smiles_Nc1ncco1  \n",
              "0                             0.0  \n",
              "1                             0.0  \n",
              "2                             0.0  \n",
              "3                             0.0  \n",
              "4                             0.0  \n",
              "\n",
              "[5 rows x 100 columns]"
            ]
          },
          "execution_count": 4,
          "metadata": {},
          "output_type": "execute_result"
        }
      ],
      "source": [
        "proteina1.head()"
      ]
    },
    {
      "cell_type": "code",
      "execution_count": 5,
      "metadata": {
        "colab": {
          "base_uri": "https://localhost:8080/"
        },
        "id": "N4g03HaPAzfo",
        "outputId": "52e854c3-7646-4bbe-e3a6-fd052eb884c5"
      },
      "outputs": [
        {
          "data": {
            "text/plain": [
              "(100000, 100)"
            ]
          },
          "execution_count": 5,
          "metadata": {},
          "output_type": "execute_result"
        }
      ],
      "source": [
        "proteina1.shape"
      ]
    },
    {
      "cell_type": "markdown",
      "metadata": {
        "id": "nTxJk00vIkB3"
      },
      "source": [
        "Luego, se realiza la separación de las variables del conjunto de datos `proteina1`. Almacenando en `X1` todas las columnas del conjunto de datos, excepto la columna binds usando el método `drop()`, y en `y1` los valores de la columna binds, que representa la variable dependiente o el objetivo del modelo."
      ]
    },
    {
      "cell_type": "code",
      "execution_count": 6,
      "metadata": {
        "id": "lvutdAO7Azfo"
      },
      "outputs": [],
      "source": [
        "X1 = proteina1.drop(columns = ['binds'])\n",
        "y1 = proteina1['binds']"
      ]
    },
    {
      "cell_type": "markdown",
      "metadata": {
        "id": "P7ZoNkBZJ2aS"
      },
      "source": [
        "Seguido, se realiza la partición del conjunto de datos utilizando el método `train_test_split()`, configurando el parámetro `stratify` igual al conjunto de etiquetas (`stratify = y1`). Además se fija un `random_state = 11`.\n",
        "\n",
        "Luego se verifica el tamaño del conjunto de entrentamiento y el de test."
      ]
    },
    {
      "cell_type": "code",
      "execution_count": 7,
      "metadata": {
        "id": "x6WmmLXzAzfo"
      },
      "outputs": [],
      "source": [
        "# Dividir el conjunto de entrenamiento en dos partes: entrenamiento y test\n",
        "X_train1, X_test1, y_train1, y_test1 = train_test_split(X1, y1, stratify = y1, random_state = 11)"
      ]
    },
    {
      "cell_type": "code",
      "execution_count": 8,
      "metadata": {
        "colab": {
          "base_uri": "https://localhost:8080/"
        },
        "id": "ES9tpIwPAzfp",
        "outputId": "de618b1b-9033-4d09-ba34-086c123d4e87"
      },
      "outputs": [
        {
          "data": {
            "text/plain": [
              "75000"
            ]
          },
          "execution_count": 8,
          "metadata": {},
          "output_type": "execute_result"
        }
      ],
      "source": [
        "len(y_train1)"
      ]
    },
    {
      "cell_type": "code",
      "execution_count": 9,
      "metadata": {
        "colab": {
          "base_uri": "https://localhost:8080/"
        },
        "id": "2gtdptyzAzfp",
        "outputId": "ea92a6f1-439f-4771-f2bb-6caa48b1c6b9"
      },
      "outputs": [
        {
          "data": {
            "text/plain": [
              "25000"
            ]
          },
          "execution_count": 9,
          "metadata": {},
          "output_type": "execute_result"
        }
      ],
      "source": [
        "len(y_test1)"
      ]
    },
    {
      "cell_type": "markdown",
      "metadata": {
        "id": "N79oY393Azfq"
      },
      "source": [
        "### **Modelo KNN**"
      ]
    },
    {
      "cell_type": "markdown",
      "metadata": {
        "id": "aQxCo_UrKrm2"
      },
      "source": [
        "A continuación, se procede a la construcción del pipeline, donde se especifica que primero se debe realizar el escalamiento de los datos mediante el método `StandardScaler()` y, posteriormente, ajustar el modelo de clasificación, que en este caso es `KNeighborsClassifier()`. Se utiliza el `param_grid_knn1` para definir los hiperparámetros a evaluar, donde se especifica el número de vecinos del modelo y el peso que toma cada uno de ellos. Seguido a ello, se construye el esquema de validación cruzada mediante el método `StratifiedKFold()`. Finalmente, se aplica el método `GridSearchCV()` con cada uno de los argumentos correspondientes y tomando en cuenta la métrica ROC AUC."
      ]
    },
    {
      "cell_type": "code",
      "execution_count": 28,
      "metadata": {
        "id": "kk5fhDPRAzfq"
      },
      "outputs": [],
      "source": [
        "pipeline_knn1 = Pipeline([('scaler', StandardScaler()), ('clasificador', KNeighborsClassifier())])\n",
        "\n",
        "param_grid_knn1 = [{ 'clasificador__n_neighbors': range(2 , 100),\n",
        "                     'clasificador__weights': ['distance']}]\n",
        "\n",
        "kf1 = StratifiedKFold(n_splits = 5, shuffle = True, random_state = 11)\n",
        "\n",
        "grid_met1 = GridSearchCV(pipeline_knn1, param_grid_knn1, cv = kf1, scoring = 'roc_auc')"
      ]
    },
    {
      "cell_type": "markdown",
      "metadata": {
        "id": "h4pAThr8LMoX"
      },
      "source": [
        "Ahora, se entrena el modelo y se imprimen los resultados"
      ]
    },
    {
      "cell_type": "code",
      "execution_count": 29,
      "metadata": {
        "colab": {
          "base_uri": "https://localhost:8080/"
        },
        "id": "7Ot9ps-NAzfq",
        "outputId": "df856fcd-b500-4976-9a6d-35bd365f0344"
      },
      "outputs": [
        {
          "name": "stdout",
          "output_type": "stream",
          "text": [
            "Mejor parámetro: {'clasificador__n_neighbors': 99, 'clasificador__weights': 'distance'}\n",
            "Mejor AUC en conjunto de entrenamiento:  0.9270946237569136\n",
            "Mejor AUC en conjunto de prueba:  0.9290624649594933\n"
          ]
        }
      ],
      "source": [
        "grid_met1.fit(X_train1, y_train1)\n",
        "print(\"Mejor parámetro:\", grid_met1.best_params_)\n",
        "print(\"Mejor AUC en conjunto de entrenamiento: \",grid_met1.best_score_)\n",
        "\n",
        "# Predicción en conjunto de prueba\n",
        "y_pred1 = grid_met1.predict(X_test1)\n",
        "prob_knn1 = grid_met1.predict_proba(X_test1)[:, 1] #Esta parte extrae solo la columna correspondiente a la clase positiva (1). \n",
        "\n",
        "# AUC en conjunto de prueba\n",
        "auc_prueba1 = roc_auc_score(y_test1, prob_knn1)\n",
        "print(\"Mejor AUC en conjunto de prueba: \", auc_prueba1)\n"
      ]
    },
    {
      "cell_type": "markdown",
      "metadata": {
        "id": "q4wJdY-FL066"
      },
      "source": [
        "El modelo K-NN con **99** vecinos y pesos basados en la distancia ha logrado un buen rendimiento. En el conjunto de entrenamiento, se obtiene un AUC de **0.927**, lo que indica que el modelo es capaz de separar correctamente las clases con un alto nivel de precisión. \n",
        "\n",
        "En el conjunto de prueba, el AUC es de **0.929**, lo cual confirma que el rendimiento del modelo se mantiene estable al enfrentarse a datos no vistos. La similitud entre los AUC en entrenamiento y prueba no sugiere indicios de sobreajuste o subajuste."
      ]
    },
    {
      "cell_type": "markdown",
      "metadata": {
        "id": "5a_428ieAzfr"
      },
      "source": [
        "### **Modelo Regresión Logística**"
      ]
    },
    {
      "cell_type": "markdown",
      "metadata": {
        "id": "d_6w-y-yL9qH"
      },
      "source": [
        "En esta parte, procedemos de forma similar al método anterior, con la diferencia de que en este caso los hiperparámetros corresponden a diferentes valores que toma el parámetro `C`, necesarios para aplicar la `LogisticRegression()` con un máximo de iteraciones del modelo de 1000.\n"
      ]
    },
    {
      "cell_type": "code",
      "execution_count": 30,
      "metadata": {
        "id": "yynPbRCkAzfr"
      },
      "outputs": [],
      "source": [
        "pipeline_rl1 = Pipeline([ ('scaler', StandardScaler()), ('clasificador', LogisticRegression(max_iter = 1000))])\n",
        "\n",
        "param_grid_lr1 = {'clasificador__C': [0.01, 0.1, 1, 10, 100, 1000]}\n",
        "\n",
        "kf1 = StratifiedKFold(n_splits = 5, shuffle = True, random_state = 11)\n",
        "\n",
        "grid_rl1 = GridSearchCV(pipeline_rl1, param_grid_lr1, cv = kf1, scoring = 'roc_auc')"
      ]
    },
    {
      "cell_type": "code",
      "execution_count": 31,
      "metadata": {
        "colab": {
          "base_uri": "https://localhost:8080/"
        },
        "id": "mcajh9GoAzfr",
        "outputId": "c66812fc-d377-4b01-c4a0-9490ec85886a"
      },
      "outputs": [
        {
          "name": "stdout",
          "output_type": "stream",
          "text": [
            "Mejor parámetro: {'clasificador__C': 0.01}\n",
            "Mejor AUC en conjunto de entrenamiento: 0.9492389162354249\n",
            "Mejor AUC en conjunto de prueba:  0.9505888338168922\n"
          ]
        }
      ],
      "source": [
        "grid_rl1.fit(X_train1, y_train1)\n",
        "print(\"Mejor parámetro:\", grid_rl1.best_params_)\n",
        "print(\"Mejor AUC en conjunto de entrenamiento:\", grid_rl1.best_score_)\n",
        "\n",
        "# Predicción en conjunto de prueba\n",
        "y_pred1 = grid_rl1.predict(X_test1)\n",
        "prob_knn11 = grid_rl1.predict_proba(X_test1)[:, 1] \n",
        "\n",
        "# AUC en conjunto de prueba\n",
        "auc_prueba11 = roc_auc_score(y_test1, prob_knn11)\n",
        "print(\"Mejor AUC en conjunto de prueba: \", auc_prueba11)"
      ]
    },
    {
      "cell_type": "markdown",
      "metadata": {
        "id": "oD3G-l_qNqVF"
      },
      "source": [
        "Los resultados muestran que el modelo de **Logistic Regression**, con un valor de **C = 0.01** (que controla la regularización), logró un AUC de **0.949** en el conjunto de entrenamiento. Este valor indica que el modelo tiene un excelente rendimiento para distinguir entre las clases positivas y negativas. \n",
        "\n",
        "En el conjunto de prueba, el modelo alcanzó un AUC de **0.950**, lo que refleja un rendimiento consistente y similar al de entrenamiento\n"
      ]
    },
    {
      "cell_type": "markdown",
      "metadata": {
        "id": "gnrIhsdzAzfr"
      },
      "source": [
        "### **Cuadro 1**"
      ]
    },
    {
      "cell_type": "markdown",
      "metadata": {
        "id": "KIgonyvmORDz"
      },
      "source": [
        "Ahora se realizan predicciones utilizando diferentes métricas: `precision`, `recall`, `F1-Score` y `ROC_AUC`, para evaluar el rendimiento de cada modelo utilizado."
      ]
    },
    {
      "cell_type": "code",
      "execution_count": 32,
      "metadata": {
        "colab": {
          "base_uri": "https://localhost:8080/",
          "height": 125
        },
        "id": "lOwnYQWnAzfs",
        "outputId": "b83834a8-6127-4e91-cfaf-66f055df0a17"
      },
      "outputs": [
        {
          "data": {
            "text/html": [
              "<div>\n",
              "<style scoped>\n",
              "    .dataframe tbody tr th:only-of-type {\n",
              "        vertical-align: middle;\n",
              "    }\n",
              "\n",
              "    .dataframe tbody tr th {\n",
              "        vertical-align: top;\n",
              "    }\n",
              "\n",
              "    .dataframe thead th {\n",
              "        text-align: right;\n",
              "    }\n",
              "</style>\n",
              "<table border=\"1\" class=\"dataframe\">\n",
              "  <thead>\n",
              "    <tr style=\"text-align: right;\">\n",
              "      <th></th>\n",
              "      <th>Modelo</th>\n",
              "      <th>Precision</th>\n",
              "      <th>Recall</th>\n",
              "      <th>F1 Score</th>\n",
              "      <th>ROC AUC</th>\n",
              "    </tr>\n",
              "  </thead>\n",
              "  <tbody>\n",
              "    <tr>\n",
              "      <th>0</th>\n",
              "      <td>K-nn</td>\n",
              "      <td>0.653846</td>\n",
              "      <td>0.277174</td>\n",
              "      <td>0.389313</td>\n",
              "      <td>0.929062</td>\n",
              "    </tr>\n",
              "    <tr>\n",
              "      <th>1</th>\n",
              "      <td>Regresión logística</td>\n",
              "      <td>0.594059</td>\n",
              "      <td>0.326087</td>\n",
              "      <td>0.421053</td>\n",
              "      <td>0.950589</td>\n",
              "    </tr>\n",
              "  </tbody>\n",
              "</table>\n",
              "</div>"
            ],
            "text/plain": [
              "                Modelo  Precision    Recall  F1 Score   ROC AUC\n",
              "0                 K-nn   0.653846  0.277174  0.389313  0.929062\n",
              "1  Regresión logística   0.594059  0.326087  0.421053  0.950589"
            ]
          },
          "execution_count": 32,
          "metadata": {},
          "output_type": "execute_result"
        }
      ],
      "source": [
        "# Se hacen las predicciones para poder comparar con las diferentes métricas\n",
        "KYP1 = grid_met1.predict(X_test1)\n",
        "LYP1 = grid_rl1.predict(X_test1)\n",
        "\n",
        "prob_knn1 = grid_met1.predict_proba(X_test1)[:, 1]\n",
        "prob_lr1 = grid_rl1.predict_proba(X_test1)[:, 1]\n",
        "\n",
        "# Evalua las predicciones en cada métrica con las etiquetas del test\n",
        "\n",
        "tabla1 = {\n",
        "    'Modelo': ['K-nn', 'Regresión logística'],\n",
        "    'Precision': [\n",
        "        precision_score(y_test1, KYP1), # K-NN\n",
        "        precision_score(y_test1, LYP1) # Regresión logística\n",
        "    ],\n",
        "    'Recall': [\n",
        "        recall_score(y_test1, KYP1),\n",
        "        recall_score(y_test1, LYP1)\n",
        "    ],\n",
        "    'F1 Score': [\n",
        "        f1_score(y_test1, KYP1),\n",
        "        f1_score(y_test1, LYP1)\n",
        "    ],\n",
        "    # En ROC AUC, No se tienen en cuenta las etiquetas sino las probabilidades\n",
        "    'ROC AUC': [\n",
        "        roc_auc_score(y_test1, prob_knn1),\n",
        "        roc_auc_score(y_test1, prob_lr1)\n",
        "    ]\n",
        "}\n",
        "\n",
        "cuadro1 = pd.DataFrame(tabla1)\n",
        "cuadro1"
      ]
    },
    {
      "cell_type": "markdown",
      "metadata": {},
      "source": [
        "El modelo K-NN muestra una buena precisión (0.653846), lo que significa que es relativamente efectivo en la predicción de moléculas que realmente se adhieren. Sin embargo, tiene un bajo recall (0.277174), lo que indica que pierde muchas moléculas que deberían haber sido identificadas como adherentes. Por otro lado, el modelo de regresión logística, tiene una precisión ligeramente más baja (0.594059) que K-NN, pero un mejor recall (0.326087), lo que significa que puede identificar un mayor número de moléculas aglutinantes. \n"
      ]
    },
    {
      "cell_type": "markdown",
      "metadata": {
        "id": "j_B9nImpAzfs"
      },
      "source": [
        "### **Matrices de confusión**"
      ]
    },
    {
      "cell_type": "markdown",
      "metadata": {
        "id": "ivWHlStnQBwQ"
      },
      "source": [
        "Para tener una mejor visualización de los datos, la matriz de confusión nos permite saber cuantas observaciones se clasifican como bien predichas o falsos positivos o negativos. Se hacen dos matrices de confusión, una para el modelo KNN y otra para Regresión Logistica."
      ]
    },
    {
      "cell_type": "code",
      "execution_count": 33,
      "metadata": {
        "id": "p-LU_rchAzfs"
      },
      "outputs": [],
      "source": [
        "colors = ['#FF69B4', '#FF6EB4', '#EE6AA7', '#CD6090', '#8B3A62']\n",
        "cmap = LinearSegmentedColormap.from_list(\"custom_pink\", colors)"
      ]
    },
    {
      "cell_type": "code",
      "execution_count": 34,
      "metadata": {
        "colab": {
          "base_uri": "https://localhost:8080/",
          "height": 477
        },
        "id": "RFnrrnk_Azfs",
        "outputId": "fc796cf4-e0cb-49cd-bbea-69605aa73e5c"
      },
      "outputs": [
        {
          "data": {
            "image/png": "[encoded data removed]",
            "text/plain": [
              "<Figure size 1600x600 with 4 Axes>"
            ]
          },
          "metadata": {},
          "output_type": "display_data"
        }
      ],
      "source": [
        "fig, axes = plt.subplots(1, 2, figsize=(16, 6))\n",
        "\n",
        "# Gráfico de la Matriz de Confusión para KNN\n",
        "\n",
        "y_pred_knn1 = KYP1\n",
        "cm_knn1 = confusion_matrix(y_test1, y_pred_knn1)\n",
        "sns.heatmap(cm_knn1, annot = True, fmt ='d', cmap = cmap, xticklabels = ['Predicción: 0', 'Predicción: 1'],\n",
        "            yticklabels = ['Real: 0', 'Real: 1'], ax = axes[0])\n",
        "axes[0].set_xlabel('Predicciones')\n",
        "axes[0].set_ylabel('Valores Reales')\n",
        "axes[0].set_title('Matriz de Confusión para el KNN')\n",
        "\n",
        "# Gráfico de la Matriz de Confusión para la Regresión Logística\n",
        "\n",
        "y_pred_lr1 = LYP1\n",
        "cm_logistic1 = confusion_matrix(y_test1, y_pred_lr1)  # Crear la matriz de confusión\n",
        "sns.heatmap(cm_logistic1, annot = True,  fmt ='d', cmap = cmap, xticklabels=['Predicción: 0', 'Predicción: 1'],\n",
        "            yticklabels=['Real: 0', 'Real: 1'], ax = axes[1])\n",
        "axes[1].set_xlabel('Predicciones')\n",
        "axes[1].set_ylabel('Valores Reales')\n",
        "axes[1].set_title('Matriz de Confusión para la Regresión Logística')\n",
        "\n",
        "\n",
        "plt.tight_layout()\n",
        "plt.show()\n"
      ]
    },
    {
      "cell_type": "markdown",
      "metadata": {
        "id": "XZmbYgTkRMYK"
      },
      "source": [
        "Al ver las matrices de confusión se puede decir lo siguiente: \n",
        "\n",
        "* En el K-NN, de las 24816 muestras negativas (clase 0), 27 fueron mal clasificadas como positivas (clase 1). De las 184 muestras positivas (clase 1), 51 fueron clasificadas correctamente, lo que muestra un bajo rendimiento en la detección de positivos.\n",
        "\n",
        "* En la Regresión Logística, de las 24816 muestras negativas, 41 fueron mal clasificadas como positivas. Sin embargo, de las 184 muestras positivas, 60 fueron correctamente clasificadas, mejorando la detección de positivos frente al K-NN, aunque con más falsos positivos.\n",
        "\n",
        "En resumen, la regresión logística ofrece un mejor equilibrio en la clasificación de positivos que el K-NN, aunque comete más errores en negativos."
      ]
    },
    {
      "cell_type": "markdown",
      "metadata": {
        "id": "QyouSL_SAzft"
      },
      "source": [
        "### **Curvas ROC**"
      ]
    },
    {
      "cell_type": "markdown",
      "metadata": {
        "id": "MJBRHlm3RSJv"
      },
      "source": [
        "Ahora, se hace la construcción de las curvas ROC para evaluar el rendimiento de un modelo de clasificación. Su objetivo es medir qué tan bien un modelo separa las clases positivas de las negativas. Un buen modelo tendrá una curva que se acerca al área superior izquierda, indicando una alta capacidad de discriminación entre las clases."
      ]
    },
    {
      "cell_type": "code",
      "execution_count": 35,
      "metadata": {
        "colab": {
          "base_uri": "https://localhost:8080/",
          "height": 718
        },
        "id": "a4qKw8l5Azft",
        "outputId": "f5b8fbb0-ed6a-4dad-ca0b-6b94e0e14591"
      },
      "outputs": [
        {
          "data": {
            "image/png": "[encoded data removed]",
            "text/plain": [
              "<Figure size 800x800 with 1 Axes>"
            ]
          },
          "metadata": {},
          "output_type": "display_data"
        }
      ],
      "source": [
        "y_pred_prob_knn1 = grid_met1.predict_proba(X_test1)[:, 1]  # Probabilidades clase positiva para K-NN\n",
        "y_pred_prob_lr1 = grid_rl1.predict_proba(X_test1)[:, 1]  # Probabilidades clase positiva para Regresión Logística\n",
        "\n",
        "# Valores para la curva ROC para K-NN\n",
        "fpr_knn1, tpr_knn1, _ = roc_curve(y_test1, y_pred_prob_knn1)\n",
        "roc_auc_knn1 = roc_auc_score(y_test1, y_pred_prob_knn1)\n",
        "\n",
        "# Valores para la curva ROC para Regresión Logística\n",
        "fpr_lr1, tpr_lr1, _ = roc_curve(y_test1, y_pred_prob_lr1)\n",
        "roc_auc_lr1 = roc_auc_score(y_test1, y_pred_prob_lr1)\n",
        "\n",
        "# Graficar ambas curvas ROC en el mismo gráfico\n",
        "plt.figure(figsize=(8, 8))\n",
        "plt.plot(fpr_knn1, tpr_knn1, color = '#FF69B4', label = f'K-NN (AUC = {roc_auc_knn1:.2f})', lw = 4)\n",
        "plt.plot(fpr_lr1, tpr_lr1, color = '#8B3A62', label = f'Regresión Logística (AUC = {roc_auc_lr1:.2f})', lw = 4)\n",
        "\n",
        "\n",
        "plt.xlabel('Tasa de Falsos Positivos (FPR)')\n",
        "plt.ylabel('Tasa de Verdaderos Positivos (TPR)')\n",
        "plt.title('Curvas ROC')\n",
        "plt.legend(loc='lower right')\n",
        "plt.grid(True)\n",
        "plt.show()\n",
        "\n"
      ]
    },
    {
      "cell_type": "markdown",
      "metadata": {
        "id": "eQhJVZKNR6QJ"
      },
      "source": [
        "La gráfica muestra las curvas ROC para los modelos K-NN y Regresión Logística. La curva de Regresión Logística tiene un área bajo la curva (AUC) de 0.95, lo que indica un excelente rendimiento al separar las clases positivas y negativas. En comparación, la curva del modelo K-NN tiene un AUC de 0.93, que, aunque es bueno, es inferior al de la Regresión Logística. Esto significa que la regresión logística tiene una mejor capacidad para distinguir correctamente entre clases que el K-NN."
      ]
    },
    {
      "cell_type": "markdown",
      "metadata": {},
      "source": [
        "\n",
        "Esto confirma que la regresión logística es mucho más efectiva que K-NN para separar correctamente las clases en este conjunto de datos (proteina 1)."
      ]
    },
    {
      "cell_type": "markdown",
      "metadata": {
        "id": "NCwKf_v4Azft"
      },
      "source": [
        "## **Modelos proteína 2 (BRD4)**\n"
      ]
    },
    {
      "cell_type": "markdown",
      "metadata": {
        "id": "XD1K5ytdSLFS"
      },
      "source": [
        "Se verifica que se hayan leído los datos correctamente con el método `head()`\n",
        "para visualizar las primeras filas y usando el atributo `shape` para revisar que se hayan leído todas las filas y columnas."
      ]
    },
    {
      "cell_type": "code",
      "execution_count": 36,
      "metadata": {
        "colab": {
          "base_uri": "https://localhost:8080/",
          "height": 290
        },
        "id": "3kcrBsm7Azfu",
        "outputId": "730607e5-6cd0-4d70-837d-938c5faf8244"
      },
      "outputs": [
        {
          "data": {
            "text/html": [
              "<div>\n",
              "<style scoped>\n",
              "    .dataframe tbody tr th:only-of-type {\n",
              "        vertical-align: middle;\n",
              "    }\n",
              "\n",
              "    .dataframe tbody tr th {\n",
              "        vertical-align: top;\n",
              "    }\n",
              "\n",
              "    .dataframe thead th {\n",
              "        text-align: right;\n",
              "    }\n",
              "</style>\n",
              "<table border=\"1\" class=\"dataframe\">\n",
              "  <thead>\n",
              "    <tr style=\"text-align: right;\">\n",
              "      <th></th>\n",
              "      <th>binds</th>\n",
              "      <th>buildingblock1_smiles_CC(C)(C)OC(=O)CCC(NC(=O)OCC1c2ccccc2-c2ccccc21)C(=O)O</th>\n",
              "      <th>buildingblock1_smiles_CC(C)(C)OCC(NC(=O)OCC1c2ccccc2-c2ccccc21)C(=O)O</th>\n",
              "      <th>buildingblock1_smiles_CC(C)CC(NC(=O)OCC1c2ccccc2-c2ccccc21)C(=O)O</th>\n",
              "      <th>buildingblock1_smiles_CC(OC(C)(C)C)C(NC(=O)OCC1c2ccccc2-c2ccccc21)C(=O)O</th>\n",
              "      <th>buildingblock1_smiles_Cc1ccccc1[C@@H](CC(=O)O)NC(=O)OCC1c2ccccc2-c2ccccc21</th>\n",
              "      <th>buildingblock1_smiles_N#Cc1ccc(C[C@@H](NC(=O)OCC2c3ccccc3-c3ccccc32)C(=O)O)cc1</th>\n",
              "      <th>buildingblock1_smiles_O=C(NC(CC1CCCCC1)C(=O)O)OCC1c2ccccc2-c2ccccc21</th>\n",
              "      <th>buildingblock1_smiles_O=C(NC(CCc1ccccc1)C(=O)O)OCC1c2ccccc2-c2ccccc21</th>\n",
              "      <th>buildingblock1_smiles_O=C(NC(Cc1ccccc1)C(=O)O)OCC1c2ccccc2-c2ccccc21</th>\n",
              "      <th>...</th>\n",
              "      <th>buildingblock3_smiles_Nc1cc(Cl)c(O)c(Cl)c1</th>\n",
              "      <th>buildingblock3_smiles_Nc1cc(N2CCNCC2)ccc1[N+](=O)[O-]</th>\n",
              "      <th>buildingblock3_smiles_Nc1ccc2[nH]ncc2c1</th>\n",
              "      <th>buildingblock3_smiles_Nc1ccc2c(c1)CCC2=O</th>\n",
              "      <th>buildingblock3_smiles_Nc1ccc2c(c1)CNC2=O</th>\n",
              "      <th>buildingblock3_smiles_Nc1ccc2c(c1)COC2=O</th>\n",
              "      <th>buildingblock3_smiles_Nc1cccnc1F</th>\n",
              "      <th>buildingblock3_smiles_Nc1nc2ccccc2s1</th>\n",
              "      <th>buildingblock3_smiles_Nc1nc2nc[nH]c2c(=O)[nH]1</th>\n",
              "      <th>buildingblock3_smiles_Nc1nccs1</th>\n",
              "    </tr>\n",
              "  </thead>\n",
              "  <tbody>\n",
              "    <tr>\n",
              "      <th>0</th>\n",
              "      <td>0</td>\n",
              "      <td>0.0</td>\n",
              "      <td>0.0</td>\n",
              "      <td>0.0</td>\n",
              "      <td>0.0</td>\n",
              "      <td>0.0</td>\n",
              "      <td>0.0</td>\n",
              "      <td>0.0</td>\n",
              "      <td>0.0</td>\n",
              "      <td>0.0</td>\n",
              "      <td>...</td>\n",
              "      <td>0.0</td>\n",
              "      <td>0.0</td>\n",
              "      <td>0.0</td>\n",
              "      <td>0.0</td>\n",
              "      <td>0.0</td>\n",
              "      <td>0.0</td>\n",
              "      <td>0.0</td>\n",
              "      <td>0.0</td>\n",
              "      <td>0.0</td>\n",
              "      <td>0.0</td>\n",
              "    </tr>\n",
              "    <tr>\n",
              "      <th>1</th>\n",
              "      <td>0</td>\n",
              "      <td>0.0</td>\n",
              "      <td>0.0</td>\n",
              "      <td>0.0</td>\n",
              "      <td>0.0</td>\n",
              "      <td>0.0</td>\n",
              "      <td>0.0</td>\n",
              "      <td>0.0</td>\n",
              "      <td>0.0</td>\n",
              "      <td>0.0</td>\n",
              "      <td>...</td>\n",
              "      <td>0.0</td>\n",
              "      <td>0.0</td>\n",
              "      <td>0.0</td>\n",
              "      <td>0.0</td>\n",
              "      <td>0.0</td>\n",
              "      <td>0.0</td>\n",
              "      <td>0.0</td>\n",
              "      <td>0.0</td>\n",
              "      <td>1.0</td>\n",
              "      <td>0.0</td>\n",
              "    </tr>\n",
              "    <tr>\n",
              "      <th>2</th>\n",
              "      <td>0</td>\n",
              "      <td>0.0</td>\n",
              "      <td>0.0</td>\n",
              "      <td>0.0</td>\n",
              "      <td>0.0</td>\n",
              "      <td>0.0</td>\n",
              "      <td>0.0</td>\n",
              "      <td>0.0</td>\n",
              "      <td>0.0</td>\n",
              "      <td>0.0</td>\n",
              "      <td>...</td>\n",
              "      <td>0.0</td>\n",
              "      <td>0.0</td>\n",
              "      <td>0.0</td>\n",
              "      <td>0.0</td>\n",
              "      <td>0.0</td>\n",
              "      <td>0.0</td>\n",
              "      <td>0.0</td>\n",
              "      <td>0.0</td>\n",
              "      <td>0.0</td>\n",
              "      <td>0.0</td>\n",
              "    </tr>\n",
              "    <tr>\n",
              "      <th>3</th>\n",
              "      <td>0</td>\n",
              "      <td>0.0</td>\n",
              "      <td>0.0</td>\n",
              "      <td>0.0</td>\n",
              "      <td>0.0</td>\n",
              "      <td>0.0</td>\n",
              "      <td>0.0</td>\n",
              "      <td>0.0</td>\n",
              "      <td>0.0</td>\n",
              "      <td>0.0</td>\n",
              "      <td>...</td>\n",
              "      <td>0.0</td>\n",
              "      <td>0.0</td>\n",
              "      <td>0.0</td>\n",
              "      <td>0.0</td>\n",
              "      <td>0.0</td>\n",
              "      <td>0.0</td>\n",
              "      <td>0.0</td>\n",
              "      <td>0.0</td>\n",
              "      <td>0.0</td>\n",
              "      <td>0.0</td>\n",
              "    </tr>\n",
              "    <tr>\n",
              "      <th>4</th>\n",
              "      <td>0</td>\n",
              "      <td>0.0</td>\n",
              "      <td>0.0</td>\n",
              "      <td>0.0</td>\n",
              "      <td>0.0</td>\n",
              "      <td>0.0</td>\n",
              "      <td>0.0</td>\n",
              "      <td>0.0</td>\n",
              "      <td>0.0</td>\n",
              "      <td>0.0</td>\n",
              "      <td>...</td>\n",
              "      <td>0.0</td>\n",
              "      <td>0.0</td>\n",
              "      <td>0.0</td>\n",
              "      <td>0.0</td>\n",
              "      <td>0.0</td>\n",
              "      <td>0.0</td>\n",
              "      <td>0.0</td>\n",
              "      <td>0.0</td>\n",
              "      <td>0.0</td>\n",
              "      <td>0.0</td>\n",
              "    </tr>\n",
              "  </tbody>\n",
              "</table>\n",
              "<p>5 rows × 100 columns</p>\n",
              "</div>"
            ],
            "text/plain": [
              "   binds  \\\n",
              "0      0   \n",
              "1      0   \n",
              "2      0   \n",
              "3      0   \n",
              "4      0   \n",
              "\n",
              "   buildingblock1_smiles_CC(C)(C)OC(=O)CCC(NC(=O)OCC1c2ccccc2-c2ccccc21)C(=O)O  \\\n",
              "0                                                0.0                             \n",
              "1                                                0.0                             \n",
              "2                                                0.0                             \n",
              "3                                                0.0                             \n",
              "4                                                0.0                             \n",
              "\n",
              "   buildingblock1_smiles_CC(C)(C)OCC(NC(=O)OCC1c2ccccc2-c2ccccc21)C(=O)O  \\\n",
              "0                                                0.0                       \n",
              "1                                                0.0                       \n",
              "2                                                0.0                       \n",
              "3                                                0.0                       \n",
              "4                                                0.0                       \n",
              "\n",
              "   buildingblock1_smiles_CC(C)CC(NC(=O)OCC1c2ccccc2-c2ccccc21)C(=O)O  \\\n",
              "0                                                0.0                   \n",
              "1                                                0.0                   \n",
              "2                                                0.0                   \n",
              "3                                                0.0                   \n",
              "4                                                0.0                   \n",
              "\n",
              "   buildingblock1_smiles_CC(OC(C)(C)C)C(NC(=O)OCC1c2ccccc2-c2ccccc21)C(=O)O  \\\n",
              "0                                                0.0                          \n",
              "1                                                0.0                          \n",
              "2                                                0.0                          \n",
              "3                                                0.0                          \n",
              "4                                                0.0                          \n",
              "\n",
              "   buildingblock1_smiles_Cc1ccccc1[C@@H](CC(=O)O)NC(=O)OCC1c2ccccc2-c2ccccc21  \\\n",
              "0                                                0.0                            \n",
              "1                                                0.0                            \n",
              "2                                                0.0                            \n",
              "3                                                0.0                            \n",
              "4                                                0.0                            \n",
              "\n",
              "   buildingblock1_smiles_N#Cc1ccc(C[C@@H](NC(=O)OCC2c3ccccc3-c3ccccc32)C(=O)O)cc1  \\\n",
              "0                                                0.0                                \n",
              "1                                                0.0                                \n",
              "2                                                0.0                                \n",
              "3                                                0.0                                \n",
              "4                                                0.0                                \n",
              "\n",
              "   buildingblock1_smiles_O=C(NC(CC1CCCCC1)C(=O)O)OCC1c2ccccc2-c2ccccc21  \\\n",
              "0                                                0.0                      \n",
              "1                                                0.0                      \n",
              "2                                                0.0                      \n",
              "3                                                0.0                      \n",
              "4                                                0.0                      \n",
              "\n",
              "   buildingblock1_smiles_O=C(NC(CCc1ccccc1)C(=O)O)OCC1c2ccccc2-c2ccccc21  \\\n",
              "0                                                0.0                       \n",
              "1                                                0.0                       \n",
              "2                                                0.0                       \n",
              "3                                                0.0                       \n",
              "4                                                0.0                       \n",
              "\n",
              "   buildingblock1_smiles_O=C(NC(Cc1ccccc1)C(=O)O)OCC1c2ccccc2-c2ccccc21  ...  \\\n",
              "0                                                0.0                     ...   \n",
              "1                                                0.0                     ...   \n",
              "2                                                0.0                     ...   \n",
              "3                                                0.0                     ...   \n",
              "4                                                0.0                     ...   \n",
              "\n",
              "   buildingblock3_smiles_Nc1cc(Cl)c(O)c(Cl)c1  \\\n",
              "0                                         0.0   \n",
              "1                                         0.0   \n",
              "2                                         0.0   \n",
              "3                                         0.0   \n",
              "4                                         0.0   \n",
              "\n",
              "   buildingblock3_smiles_Nc1cc(N2CCNCC2)ccc1[N+](=O)[O-]  \\\n",
              "0                                                0.0       \n",
              "1                                                0.0       \n",
              "2                                                0.0       \n",
              "3                                                0.0       \n",
              "4                                                0.0       \n",
              "\n",
              "   buildingblock3_smiles_Nc1ccc2[nH]ncc2c1  \\\n",
              "0                                      0.0   \n",
              "1                                      0.0   \n",
              "2                                      0.0   \n",
              "3                                      0.0   \n",
              "4                                      0.0   \n",
              "\n",
              "   buildingblock3_smiles_Nc1ccc2c(c1)CCC2=O  \\\n",
              "0                                       0.0   \n",
              "1                                       0.0   \n",
              "2                                       0.0   \n",
              "3                                       0.0   \n",
              "4                                       0.0   \n",
              "\n",
              "   buildingblock3_smiles_Nc1ccc2c(c1)CNC2=O  \\\n",
              "0                                       0.0   \n",
              "1                                       0.0   \n",
              "2                                       0.0   \n",
              "3                                       0.0   \n",
              "4                                       0.0   \n",
              "\n",
              "   buildingblock3_smiles_Nc1ccc2c(c1)COC2=O  buildingblock3_smiles_Nc1cccnc1F  \\\n",
              "0                                       0.0                               0.0   \n",
              "1                                       0.0                               0.0   \n",
              "2                                       0.0                               0.0   \n",
              "3                                       0.0                               0.0   \n",
              "4                                       0.0                               0.0   \n",
              "\n",
              "   buildingblock3_smiles_Nc1nc2ccccc2s1  \\\n",
              "0                                   0.0   \n",
              "1                                   0.0   \n",
              "2                                   0.0   \n",
              "3                                   0.0   \n",
              "4                                   0.0   \n",
              "\n",
              "   buildingblock3_smiles_Nc1nc2nc[nH]c2c(=O)[nH]1  \\\n",
              "0                                             0.0   \n",
              "1                                             1.0   \n",
              "2                                             0.0   \n",
              "3                                             0.0   \n",
              "4                                             0.0   \n",
              "\n",
              "   buildingblock3_smiles_Nc1nccs1  \n",
              "0                             0.0  \n",
              "1                             0.0  \n",
              "2                             0.0  \n",
              "3                             0.0  \n",
              "4                             0.0  \n",
              "\n",
              "[5 rows x 100 columns]"
            ]
          },
          "execution_count": 36,
          "metadata": {},
          "output_type": "execute_result"
        }
      ],
      "source": [
        "proteina2.head()"
      ]
    },
    {
      "cell_type": "code",
      "execution_count": 37,
      "metadata": {
        "colab": {
          "base_uri": "https://localhost:8080/"
        },
        "id": "ZGsfQ7dbAzfu",
        "outputId": "bb43c1c4-d2aa-4666-d8c4-576fa6115948"
      },
      "outputs": [
        {
          "data": {
            "text/plain": [
              "(100000, 100)"
            ]
          },
          "execution_count": 37,
          "metadata": {},
          "output_type": "execute_result"
        }
      ],
      "source": [
        "proteina2.shape"
      ]
    },
    {
      "cell_type": "markdown",
      "metadata": {
        "id": "ARTRCbBTSLFT"
      },
      "source": [
        "Luego, se realiza la separación de las variables del conjunto de datos `proteina2`. Almacenando en `X2` todas las columnas del conjunto de datos, excepto la columna binds usando el método `drop()`, y en `y2` los valores de la columna binds, que representa la variable dependiente o el objetivo del modelo."
      ]
    },
    {
      "cell_type": "code",
      "execution_count": 38,
      "metadata": {
        "id": "r_eY02yxAzfu"
      },
      "outputs": [],
      "source": [
        "X2 = proteina2.drop(columns = ['binds'])\n",
        "y2 = proteina2['binds']"
      ]
    },
    {
      "cell_type": "markdown",
      "metadata": {
        "id": "2Zd-A0flSLFT"
      },
      "source": [
        "Seguido, se realiza la partición del conjunto de datos utilizando el método `train_test_split()`, configurando el parámetro `stratify` igual al conjunto de etiquetas (`stratify = y2`). Además se fija un `random_state = 11`.\n",
        "\n",
        "Luego se verifica el tamaño del conjunto de entrentamiento y el de test."
      ]
    },
    {
      "cell_type": "code",
      "execution_count": 39,
      "metadata": {
        "id": "M73vtsKGAzfu"
      },
      "outputs": [],
      "source": [
        "# Dividir el conjunto de entrenamiento en dos partes: entrenamiento y test\n",
        "X_train2, X_test2, y_train2, y_test2 = train_test_split(X2, y2, stratify = y2, random_state = 11)"
      ]
    },
    {
      "cell_type": "code",
      "execution_count": 40,
      "metadata": {
        "colab": {
          "base_uri": "https://localhost:8080/"
        },
        "id": "kS5SSz9_Azfv",
        "outputId": "53d46b56-47f2-45c8-eb22-449432262c79"
      },
      "outputs": [
        {
          "data": {
            "text/plain": [
              "75000"
            ]
          },
          "execution_count": 40,
          "metadata": {},
          "output_type": "execute_result"
        }
      ],
      "source": [
        "len(y_train2)"
      ]
    },
    {
      "cell_type": "code",
      "execution_count": 41,
      "metadata": {
        "colab": {
          "base_uri": "https://localhost:8080/"
        },
        "id": "leQ7hLUzAzfv",
        "outputId": "d64a671c-b748-422a-9ee1-dd67fec92c2e"
      },
      "outputs": [
        {
          "data": {
            "text/plain": [
              "25000"
            ]
          },
          "execution_count": 41,
          "metadata": {},
          "output_type": "execute_result"
        }
      ],
      "source": [
        "len(y_test2)"
      ]
    },
    {
      "cell_type": "markdown",
      "metadata": {
        "id": "btFs-lBRAzfv"
      },
      "source": [
        "### **Modelo KNN**"
      ]
    },
    {
      "cell_type": "markdown",
      "metadata": {
        "id": "4L3PnhybSii6"
      },
      "source": [
        "Siguiendo, se repite el mismo proceso y con los mismos hiperparámetros que la `proteina1` para el modelo `KNN`"
      ]
    },
    {
      "cell_type": "code",
      "execution_count": 42,
      "metadata": {
        "id": "FXN93SEZAzfv"
      },
      "outputs": [],
      "source": [
        "pipeline_knn2 = Pipeline([('scaler', StandardScaler()), ('clasificador', KNeighborsClassifier())])\n",
        "\n",
        "param_grid_knn2 = [{ 'clasificador__n_neighbors': range(2 , 100),# Número de vecinos del modelo\n",
        "                   'clasificador__weights': ['distance']}]\n",
        "\n",
        "kf2 = StratifiedKFold(n_splits = 5, shuffle = True, random_state = 11)\n",
        "\n",
        "grid_met2 = GridSearchCV(pipeline_knn2, param_grid_knn2, cv = kf2, scoring = 'roc_auc')"
      ]
    },
    {
      "cell_type": "code",
      "execution_count": 43,
      "metadata": {
        "colab": {
          "base_uri": "https://localhost:8080/"
        },
        "id": "tYqjhqPZAzfw",
        "outputId": "325e1b22-2050-4d6d-9771-d5fa9c815ab9"
      },
      "outputs": [
        {
          "name": "stdout",
          "output_type": "stream",
          "text": [
            "Mejor parámetro: {'clasificador__n_neighbors': 99, 'clasificador__weights': 'distance'}\n",
            "Mejor AUC en conjunto de entrenamiento:  0.8544641322352771\n",
            "Mejor AUC en conjunto de prueba:  0.853590314230443\n"
          ]
        }
      ],
      "source": [
        "grid_met2.fit(X_train2, y_train2)\n",
        "print(\"Mejor parámetro:\", grid_met2.best_params_)\n",
        "print(\"Mejor AUC en conjunto de entrenamiento: \",grid_met2.best_score_)\n",
        "\n",
        "# Predicción en conjunto de prueba\n",
        "y_pred2 = grid_met2.predict(X_test2)\n",
        "prob_knn2 = grid_met2.predict_proba(X_test2)[:, 1] #Esta parte extrae solo la columna correspondiente a la clase positiva (1). \n",
        "\n",
        "# AUC en conjunto de prueba\n",
        "auc_prueba2 = roc_auc_score(y_test2, prob_knn2)\n",
        "print(\"Mejor AUC en conjunto de prueba: \", auc_prueba2)"
      ]
    },
    {
      "cell_type": "markdown",
      "metadata": {
        "id": "H8pGwkHbTKvu"
      },
      "source": [
        "Este resultado muestra que el modelo **K-NN**, con **99 vecinos** y pesos basados en la distancia (priorizando la cercanía de los vecinos), alcanzó un AUC de **0.8546** en el conjunto de entrenamiento. Esto indica que el modelo tiene un buen rendimiento para separar correctamente las clases en los datos de entrenamiento.\n",
        "\n",
        "En el conjunto de prueba, el modelo logró un AUC de **0.8536**, lo cual es muy cercano al valor obtenido en el conjunto de entrenamiento. Esto sugiere que el modelo está generalizando bien a los datos, sin signos de sobreajuste. \n"
      ]
    },
    {
      "cell_type": "markdown",
      "metadata": {
        "id": "QMfzD6RDAzfw"
      },
      "source": [
        "\n",
        "### **Modelo Regresión Logística**"
      ]
    },
    {
      "cell_type": "markdown",
      "metadata": {
        "id": "XJ5NlrEHTVZ5"
      },
      "source": [
        "Siguiendo, se repite el mismo proceso y con los mismos hiperparámetros que la `proteina1` para el modelo `Regresión Logistica`"
      ]
    },
    {
      "cell_type": "code",
      "execution_count": 44,
      "metadata": {
        "id": "Aw_UbzPeAzf2"
      },
      "outputs": [],
      "source": [
        "pipeline_rl2 = Pipeline([ ('scaler', StandardScaler()), ('clasificador', LogisticRegression(max_iter = 1000))])\n",
        "\n",
        "param_grid_lr2 = {'clasificador__C': [0.01, 0.1, 1, 10, 100, 1000]}\n",
        "\n",
        "kf2 = StratifiedKFold(n_splits = 5, shuffle = True, random_state = 11)\n",
        "\n",
        "grid_rl2 = GridSearchCV(pipeline_rl2, param_grid_lr2, cv = kf2, scoring = 'roc_auc')"
      ]
    },
    {
      "cell_type": "code",
      "execution_count": 45,
      "metadata": {
        "colab": {
          "base_uri": "https://localhost:8080/"
        },
        "id": "1D1anGv6Azf2",
        "outputId": "54ac8917-b37a-4068-d02b-7121fed5cc20"
      },
      "outputs": [
        {
          "name": "stdout",
          "output_type": "stream",
          "text": [
            "Mejor parámetro: {'clasificador__C': 0.01}\n",
            "Mejor AUC en conjunto de entrenamiento: 0.9350363467583321\n",
            "Mejor AUC en conjunto de prueba:  0.937688287446857\n"
          ]
        }
      ],
      "source": [
        "grid_rl2.fit(X_train2, y_train2)\n",
        "print(\"Mejor parámetro:\", grid_rl2.best_params_)\n",
        "print(\"Mejor AUC en conjunto de entrenamiento:\", grid_rl2.best_score_)\n",
        "\n",
        "# Predicción en conjunto de prueba\n",
        "y_pred22 = grid_rl2.predict(X_test2)\n",
        "prob_knn22 = grid_rl2.predict_proba(X_test2)[:, 1] \n",
        "\n",
        "# AUC en conjunto de prueba\n",
        "auc_prueba22 = roc_auc_score(y_test2, prob_knn22)\n",
        "print(\"Mejor AUC en conjunto de prueba: \", auc_prueba22)"
      ]
    },
    {
      "cell_type": "markdown",
      "metadata": {
        "id": "cGhin__WTiGj"
      },
      "source": [
        "Este resultado muestra que el modelo de **Regresión Logística**, con un valor de **C = 0.01** (que implica una regularización fuerte), alcanzó un AUC de **0.9350** en el conjunto de entrenamiento.En el conjunto de prueba, el modelo logró un AUC de **0.9377**, lo que es muy cercano al valor obtenido en el conjunto de entrenamiento. Esta consistencia entre ambos conjuntos indica que el modelo tiene una buena capacidad de generalización, evitando problemas de sobreajuste. \n"
      ]
    },
    {
      "cell_type": "markdown",
      "metadata": {
        "id": "EDz5825aAzf3"
      },
      "source": [
        "### **Cuadro 1**"
      ]
    },
    {
      "cell_type": "markdown",
      "metadata": {
        "id": "tLVCOdSXTvGY"
      },
      "source": [
        "Ahora se realizan predicciones utilizando diferentes métricas: `precision`, `recall`, `F1-Score` y `ROC_AUC`, para evaluar el rendimiento de cada modelo utilizado."
      ]
    },
    {
      "cell_type": "code",
      "execution_count": 46,
      "metadata": {
        "colab": {
          "base_uri": "https://localhost:8080/",
          "height": 125
        },
        "id": "5AZ-g9H0Azf3",
        "outputId": "64e09035-e8a8-4beb-b03b-1b1b4bc840b8"
      },
      "outputs": [
        {
          "data": {
            "text/html": [
              "<div>\n",
              "<style scoped>\n",
              "    .dataframe tbody tr th:only-of-type {\n",
              "        vertical-align: middle;\n",
              "    }\n",
              "\n",
              "    .dataframe tbody tr th {\n",
              "        vertical-align: top;\n",
              "    }\n",
              "\n",
              "    .dataframe thead th {\n",
              "        text-align: right;\n",
              "    }\n",
              "</style>\n",
              "<table border=\"1\" class=\"dataframe\">\n",
              "  <thead>\n",
              "    <tr style=\"text-align: right;\">\n",
              "      <th></th>\n",
              "      <th>Modelo</th>\n",
              "      <th>Precision</th>\n",
              "      <th>Recall</th>\n",
              "      <th>F1 Score</th>\n",
              "      <th>ROC AUC</th>\n",
              "    </tr>\n",
              "  </thead>\n",
              "  <tbody>\n",
              "    <tr>\n",
              "      <th>0</th>\n",
              "      <td>K-nn</td>\n",
              "      <td>0.800000</td>\n",
              "      <td>0.068966</td>\n",
              "      <td>0.126984</td>\n",
              "      <td>0.853590</td>\n",
              "    </tr>\n",
              "    <tr>\n",
              "      <th>1</th>\n",
              "      <td>Regresión logística</td>\n",
              "      <td>0.615385</td>\n",
              "      <td>0.137931</td>\n",
              "      <td>0.225352</td>\n",
              "      <td>0.937688</td>\n",
              "    </tr>\n",
              "  </tbody>\n",
              "</table>\n",
              "</div>"
            ],
            "text/plain": [
              "                Modelo  Precision    Recall  F1 Score   ROC AUC\n",
              "0                 K-nn   0.800000  0.068966  0.126984  0.853590\n",
              "1  Regresión logística   0.615385  0.137931  0.225352  0.937688"
            ]
          },
          "execution_count": 46,
          "metadata": {},
          "output_type": "execute_result"
        }
      ],
      "source": [
        "# Se hacen las predicciones para poder comparar con las diferentes métricas\n",
        "KYP2 = grid_met2.predict(X_test2)\n",
        "LYP2 = grid_rl2.predict(X_test2)\n",
        "\n",
        "prob_knn2 = grid_met2.predict_proba(X_test2)[:, 1]\n",
        "prob_lr2 = grid_rl2.predict_proba(X_test2)[:, 1]\n",
        "\n",
        "tabla2 = {\n",
        "    'Modelo': ['K-nn', 'Regresión logística'],\n",
        "    'Precision': [\n",
        "        precision_score(y_test2, KYP2), # K-NN\n",
        "        precision_score(y_test2, LYP2) # Regresión logística\n",
        "    ],\n",
        "    'Recall': [\n",
        "        recall_score(y_test2, KYP2),\n",
        "        recall_score(y_test2, LYP2)\n",
        "    ],\n",
        "    'F1 Score': [\n",
        "        f1_score(y_test2, KYP2),\n",
        "        f1_score(y_test2, LYP2)\n",
        "    ],\n",
        "    # En ROC AUC, No se tienen en cuenta las etiquetas sino las probabilidades\n",
        "    'ROC AUC': [\n",
        "        roc_auc_score(y_test2, prob_knn2),\n",
        "        roc_auc_score(y_test2, prob_lr2)\n",
        "    ]\n",
        "}\n",
        "\n",
        "cuadro2 = pd.DataFrame(tabla2)\n",
        "cuadro2"
      ]
    },
    {
      "cell_type": "markdown",
      "metadata": {},
      "source": [
        "El modelo **K-NN** muestra una buena precisión (**0.80**), lo que indica que es eficaz para predecir correctamente las moléculas que realmente se adhieren. Sin embargo, tiene un bajo recall (**0.068966**), lo que sugiere que el modelo no está identificando muchas moléculas que deberían haber sido clasificadas como adherentes. Esto puede darse dado al desbalance del conjunto de datos\n",
        "\n",
        "Por otro lado, el modelo de **Regresión Logística** tiene una precisión más baja (**0.615385**) en comparación con K-NN, pero presenta un mejor recall (**0.137931**). Esto significa que el modelo es más eficiente en la identificación de moléculas aglutinantes en comparación con K-NN, aunque su precisión no es tan alta. "
      ]
    },
    {
      "cell_type": "markdown",
      "metadata": {
        "id": "wyILBOIeAzf3"
      },
      "source": [
        "### **Matrices de confusión**"
      ]
    },
    {
      "cell_type": "markdown",
      "metadata": {
        "id": "JUfeq1B9TvGg"
      },
      "source": [
        "Para tener una mejor visualización de los datos, la matriz de confusión nos permite saber cuantas observaciones se clasifican como bien predichas o falsos positivos o negativos. Se hacen dos matrices de confusión, una para el modelo KNN y otra para Regresión Logistica."
      ]
    },
    {
      "cell_type": "code",
      "execution_count": 47,
      "metadata": {
        "id": "Zqacvv0IAzf3"
      },
      "outputs": [],
      "source": [
        "colors = ['#FF69B4', '#FF6EB4', '#EE6AA7', '#CD6090', '#8B3A62']\n",
        "cmap = LinearSegmentedColormap.from_list(\"custom_pink\", colors)"
      ]
    },
    {
      "cell_type": "code",
      "execution_count": 48,
      "metadata": {
        "colab": {
          "base_uri": "https://localhost:8080/",
          "height": 477
        },
        "id": "ggfhEqlSAzf4",
        "outputId": "27943246-100f-4602-a7b8-2b590d19c2bf"
      },
      "outputs": [
        {
          "data": {
            "image/png": "[encoded data removed]",
            "text/plain": [
              "<Figure size 1600x600 with 4 Axes>"
            ]
          },
          "metadata": {},
          "output_type": "display_data"
        }
      ],
      "source": [
        "fig, axes = plt.subplots(1, 2, figsize=(16, 6))\n",
        "\n",
        "# Gráfico de la Matriz de Confusión para KNN\n",
        "\n",
        "y_pred_knn2 = KYP2\n",
        "cm_knn2 = confusion_matrix(y_test2, y_pred_knn2)\n",
        "sns.heatmap(cm_knn2, annot = True, fmt ='d', cmap = cmap, xticklabels = ['Predicción: 0', 'Predicción: 1'],\n",
        "            yticklabels = ['Real: 0', 'Real: 1'], ax = axes[0])\n",
        "axes[0].set_xlabel('Predicciones')\n",
        "axes[0].set_ylabel('Valores Reales')\n",
        "axes[0].set_title('Matriz de Confusión para el KNN')\n",
        "\n",
        "# Gráfico de la Matriz de Confusión para la Regresión Logística\n",
        "\n",
        "y_pred_lr2 = LYP2\n",
        "cm_logistic2 = confusion_matrix(y_test2, y_pred_lr2)  # Crear la matriz de confusión\n",
        "sns.heatmap(cm_logistic2, annot = True,  fmt ='d', cmap = cmap, xticklabels=['Predicción: 0', 'Predicción: 1'],\n",
        "            yticklabels=['Real: 0', 'Real: 1'], ax = axes[1])\n",
        "axes[1].set_xlabel('Predicciones')\n",
        "axes[1].set_ylabel('Valores Reales')\n",
        "axes[1].set_title('Matriz de Confusión para la Regresión Logística')\n",
        "\n",
        "\n",
        "plt.tight_layout()\n",
        "plt.show()\n"
      ]
    },
    {
      "cell_type": "markdown",
      "metadata": {
        "id": "FppeWjkpUMJ4"
      },
      "source": [
        "Al observar las matrices de confusión, se puede concluir lo siguiente:\n",
        "\n",
        "- En el **K-NN**, de las **24884** muestras negativas (clase 0), **2** fueron mal clasificadas como positivas (clase 1). Sin embargo, de las **116** muestras positivas (clase 1), solo **8** fueron clasificadas correctamente. Esto evidencia un bajo rendimiento en la detección de positivos, ya que la mayoría de los casos positivos fueron clasificados incorrectamente como negativos.\n",
        "\n",
        "- En la **Regresión Logística**, de las **24874** muestras negativas, **10** fueron mal clasificadas como positivas. De las **116** muestras positivas, **16** fueron correctamente clasificadas. Aunque la regresión logística también presenta falsos positivos, mejora en la detección de los casos positivos en comparación con K-NN."
      ]
    },
    {
      "cell_type": "markdown",
      "metadata": {
        "id": "sX8vv-ZLAzf4"
      },
      "source": [
        "### **Curvas ROC**"
      ]
    },
    {
      "cell_type": "markdown",
      "metadata": {
        "id": "btop4fNaTvGg"
      },
      "source": [
        "Ahora, se hace la construcción de las curvas ROC para evaluar el rendimiento de un modelo de clasificación, y poder mostrar la relación entre la tasa de verdaderos positivos y la tasa de falsos positivos en diferentes umbrales de decisión. "
      ]
    },
    {
      "cell_type": "code",
      "execution_count": 49,
      "metadata": {
        "colab": {
          "base_uri": "https://localhost:8080/",
          "height": 718
        },
        "id": "UhMpZSo7Azf4",
        "outputId": "03f4b168-c912-4897-f6e2-58a6c6a7ec55"
      },
      "outputs": [
        {
          "data": {
            "image/png": "[encoded data removed]",
            "text/plain": [
              "<Figure size 800x800 with 1 Axes>"
            ]
          },
          "metadata": {},
          "output_type": "display_data"
        }
      ],
      "source": [
        "y_pred_prob_knn2 = grid_met2.predict_proba(X_test2)[:, 1]  # Probabilidades clase positiva para K-NN\n",
        "y_pred_prob_lr2 = grid_rl2.predict_proba(X_test2)[:, 1]  # Probabilidades clase positiva para Regresión Logística\n",
        "\n",
        "# Valores para la curva ROC para K-NN\n",
        "fpr_knn2, tpr_knn2, _ = roc_curve(y_test2, y_pred_prob_knn2)\n",
        "roc_auc_knn2 = roc_auc_score(y_test2, y_pred_prob_knn2)\n",
        "\n",
        "# Valores para la curva ROC para Regresión Logística\n",
        "fpr_lr2, tpr_lr2, _ = roc_curve(y_test2, y_pred_prob_lr2)\n",
        "roc_auc_lr2 = roc_auc_score(y_test2, y_pred_prob_lr2)\n",
        "\n",
        "# Graficar ambas curvas ROC en el mismo gráfico\n",
        "plt.figure(figsize=(8, 8))\n",
        "plt.plot(fpr_knn2, tpr_knn2, color = '#FF69B4', label = f'K-NN (AUC = {roc_auc_knn2:.2f})', lw = 4)\n",
        "plt.plot(fpr_lr2, tpr_lr2, color = '#8B3A62', label = f'Regresión Logística (AUC = {roc_auc_lr2:.2f})', lw = 4)\n",
        "\n",
        "\n",
        "plt.xlabel('Tasa de Falsos Positivos (FPR)')\n",
        "plt.ylabel('Tasa de Verdaderos Positivos (TPR)')\n",
        "plt.title('Curvas ROC')\n",
        "plt.legend(loc='lower right')\n",
        "plt.grid(True)\n",
        "plt.show()\n"
      ]
    },
    {
      "cell_type": "markdown",
      "metadata": {
        "id": "6HQ5bqoaUZiu"
      },
      "source": [
        "La gráfica muestra las curvas ROC para los modelos **K-NN** y **Regresión Logística**.\n",
        "\n",
        "- La **Regresión Logística** tiene un área bajo la curva (**AUC**) de **0.94**, lo que indica un excelente rendimiento en la discriminación entre clases positivas y negativas. Esto significa que el modelo es altamente efectivo para predecir correctamente las clases en este conjunto de datos.\n",
        "\n",
        "- El modelo **K-NN** tiene un **AUC** de **0.85**, lo que indica un buen rendimiento, pero significativamente inferior al de la Regresión Logística.\n",
        "\n"
      ]
    },
    {
      "cell_type": "markdown",
      "metadata": {},
      "source": [
        "\n",
        "En conclusión, la **Regresión Logística** es mucho más efectiva que **K-NN** para separar correctamente las clases, lo que sugiere que, la regresión logística es el mejor modelo para predecir la adherencia de moléculas a las proteínas."
      ]
    },
    {
      "cell_type": "markdown",
      "metadata": {
        "id": "7GUEtuh7Azf5"
      },
      "source": [
        "## **Modelos proteína 3 (HSA)**\n"
      ]
    },
    {
      "cell_type": "markdown",
      "metadata": {
        "id": "HMa6Y6h8UvpM"
      },
      "source": [
        "Se verifica que se hayan leído los datos correctamente con el método `head()`\n",
        "para visualizar las primeras filas y usando el atributo `shape` para revisar que se hayan leído todas las filas y columnas."
      ]
    },
    {
      "cell_type": "code",
      "execution_count": 50,
      "metadata": {
        "colab": {
          "base_uri": "https://localhost:8080/",
          "height": 308
        },
        "id": "autzDTJPAzf5",
        "outputId": "e69e35cd-5e72-4b94-9b6c-d06efa17c968"
      },
      "outputs": [
        {
          "data": {
            "text/html": [
              "<div>\n",
              "<style scoped>\n",
              "    .dataframe tbody tr th:only-of-type {\n",
              "        vertical-align: middle;\n",
              "    }\n",
              "\n",
              "    .dataframe tbody tr th {\n",
              "        vertical-align: top;\n",
              "    }\n",
              "\n",
              "    .dataframe thead th {\n",
              "        text-align: right;\n",
              "    }\n",
              "</style>\n",
              "<table border=\"1\" class=\"dataframe\">\n",
              "  <thead>\n",
              "    <tr style=\"text-align: right;\">\n",
              "      <th></th>\n",
              "      <th>binds</th>\n",
              "      <th>buildingblock1_smiles_CC(C)(C)OC(=O)CCC(NC(=O)OCC1c2ccccc2-c2ccccc21)C(=O)O</th>\n",
              "      <th>buildingblock1_smiles_CC(OC(C)(C)C)C(NC(=O)OCC1c2ccccc2-c2ccccc21)C(=O)O</th>\n",
              "      <th>buildingblock1_smiles_Cc1cc(Cl)cc(C(=O)O)c1NC(=O)OCC1c2ccccc2-c2ccccc21</th>\n",
              "      <th>buildingblock1_smiles_Cc1ccc(C(=O)O)cc1NC(=O)OCC1c2ccccc2-c2ccccc21</th>\n",
              "      <th>buildingblock1_smiles_O=C(NC(CC1CCCCC1)C(=O)O)OCC1c2ccccc2-c2ccccc21</th>\n",
              "      <th>buildingblock1_smiles_O=C(NC(Cc1ccccc1)C(=O)O)OCC1c2ccccc2-c2ccccc21</th>\n",
              "      <th>buildingblock1_smiles_O=C(N[C@@H](Cc1cccnc1)C(=O)O)OCC1c2ccccc2-c2ccccc21</th>\n",
              "      <th>buildingblock1_smiles_O=C(N[C@H](Cc1ccc(-c2ccccc2)cc1)C(=O)O)OCC1c2ccccc2-c2ccccc21</th>\n",
              "      <th>buildingblock1_smiles_O=C(Nc1cc(C(=O)O)cc(C(=O)O)c1)OCC1c2ccccc2-c2ccccc21</th>\n",
              "      <th>...</th>\n",
              "      <th>buildingblock3_smiles_Nc1cccc2ocnc12</th>\n",
              "      <th>buildingblock3_smiles_Nc1cn[nH]c1</th>\n",
              "      <th>buildingblock3_smiles_Nc1cncc(F)c1</th>\n",
              "      <th>buildingblock3_smiles_Nc1n[nH]c2cc(F)ccc12</th>\n",
              "      <th>buildingblock3_smiles_Nc1nc(Cl)c2[nH]cnc2n1</th>\n",
              "      <th>buildingblock3_smiles_Nc1nc2c(s1)CN(C(=O)OCc1ccccc1)CC2</th>\n",
              "      <th>buildingblock3_smiles_Nc1nc[nH]n1</th>\n",
              "      <th>buildingblock3_smiles_Nc1ncnc(Cl)c1Cl</th>\n",
              "      <th>buildingblock3_smiles_Nc1nncs1</th>\n",
              "      <th>buildingblock3_smiles_Nc1nnn[nH]1</th>\n",
              "    </tr>\n",
              "  </thead>\n",
              "  <tbody>\n",
              "    <tr>\n",
              "      <th>0</th>\n",
              "      <td>0</td>\n",
              "      <td>0.0</td>\n",
              "      <td>0.0</td>\n",
              "      <td>0.0</td>\n",
              "      <td>0.0</td>\n",
              "      <td>0.0</td>\n",
              "      <td>0.0</td>\n",
              "      <td>0.0</td>\n",
              "      <td>0.0</td>\n",
              "      <td>0.0</td>\n",
              "      <td>...</td>\n",
              "      <td>0.0</td>\n",
              "      <td>0.0</td>\n",
              "      <td>0.0</td>\n",
              "      <td>0.0</td>\n",
              "      <td>0.0</td>\n",
              "      <td>0.0</td>\n",
              "      <td>0.0</td>\n",
              "      <td>0.0</td>\n",
              "      <td>0.0</td>\n",
              "      <td>0.0</td>\n",
              "    </tr>\n",
              "    <tr>\n",
              "      <th>1</th>\n",
              "      <td>0</td>\n",
              "      <td>0.0</td>\n",
              "      <td>0.0</td>\n",
              "      <td>0.0</td>\n",
              "      <td>0.0</td>\n",
              "      <td>0.0</td>\n",
              "      <td>0.0</td>\n",
              "      <td>0.0</td>\n",
              "      <td>0.0</td>\n",
              "      <td>0.0</td>\n",
              "      <td>...</td>\n",
              "      <td>0.0</td>\n",
              "      <td>0.0</td>\n",
              "      <td>0.0</td>\n",
              "      <td>0.0</td>\n",
              "      <td>0.0</td>\n",
              "      <td>0.0</td>\n",
              "      <td>0.0</td>\n",
              "      <td>0.0</td>\n",
              "      <td>0.0</td>\n",
              "      <td>0.0</td>\n",
              "    </tr>\n",
              "    <tr>\n",
              "      <th>2</th>\n",
              "      <td>0</td>\n",
              "      <td>0.0</td>\n",
              "      <td>0.0</td>\n",
              "      <td>0.0</td>\n",
              "      <td>0.0</td>\n",
              "      <td>0.0</td>\n",
              "      <td>0.0</td>\n",
              "      <td>0.0</td>\n",
              "      <td>0.0</td>\n",
              "      <td>0.0</td>\n",
              "      <td>...</td>\n",
              "      <td>0.0</td>\n",
              "      <td>0.0</td>\n",
              "      <td>0.0</td>\n",
              "      <td>0.0</td>\n",
              "      <td>0.0</td>\n",
              "      <td>0.0</td>\n",
              "      <td>0.0</td>\n",
              "      <td>0.0</td>\n",
              "      <td>0.0</td>\n",
              "      <td>0.0</td>\n",
              "    </tr>\n",
              "    <tr>\n",
              "      <th>3</th>\n",
              "      <td>0</td>\n",
              "      <td>0.0</td>\n",
              "      <td>0.0</td>\n",
              "      <td>0.0</td>\n",
              "      <td>0.0</td>\n",
              "      <td>0.0</td>\n",
              "      <td>0.0</td>\n",
              "      <td>0.0</td>\n",
              "      <td>0.0</td>\n",
              "      <td>0.0</td>\n",
              "      <td>...</td>\n",
              "      <td>0.0</td>\n",
              "      <td>0.0</td>\n",
              "      <td>0.0</td>\n",
              "      <td>0.0</td>\n",
              "      <td>0.0</td>\n",
              "      <td>0.0</td>\n",
              "      <td>0.0</td>\n",
              "      <td>0.0</td>\n",
              "      <td>0.0</td>\n",
              "      <td>0.0</td>\n",
              "    </tr>\n",
              "    <tr>\n",
              "      <th>4</th>\n",
              "      <td>0</td>\n",
              "      <td>0.0</td>\n",
              "      <td>0.0</td>\n",
              "      <td>0.0</td>\n",
              "      <td>0.0</td>\n",
              "      <td>0.0</td>\n",
              "      <td>0.0</td>\n",
              "      <td>0.0</td>\n",
              "      <td>0.0</td>\n",
              "      <td>0.0</td>\n",
              "      <td>...</td>\n",
              "      <td>0.0</td>\n",
              "      <td>0.0</td>\n",
              "      <td>0.0</td>\n",
              "      <td>0.0</td>\n",
              "      <td>0.0</td>\n",
              "      <td>0.0</td>\n",
              "      <td>0.0</td>\n",
              "      <td>0.0</td>\n",
              "      <td>0.0</td>\n",
              "      <td>0.0</td>\n",
              "    </tr>\n",
              "  </tbody>\n",
              "</table>\n",
              "<p>5 rows × 100 columns</p>\n",
              "</div>"
            ],
            "text/plain": [
              "   binds  \\\n",
              "0      0   \n",
              "1      0   \n",
              "2      0   \n",
              "3      0   \n",
              "4      0   \n",
              "\n",
              "   buildingblock1_smiles_CC(C)(C)OC(=O)CCC(NC(=O)OCC1c2ccccc2-c2ccccc21)C(=O)O  \\\n",
              "0                                                0.0                             \n",
              "1                                                0.0                             \n",
              "2                                                0.0                             \n",
              "3                                                0.0                             \n",
              "4                                                0.0                             \n",
              "\n",
              "   buildingblock1_smiles_CC(OC(C)(C)C)C(NC(=O)OCC1c2ccccc2-c2ccccc21)C(=O)O  \\\n",
              "0                                                0.0                          \n",
              "1                                                0.0                          \n",
              "2                                                0.0                          \n",
              "3                                                0.0                          \n",
              "4                                                0.0                          \n",
              "\n",
              "   buildingblock1_smiles_Cc1cc(Cl)cc(C(=O)O)c1NC(=O)OCC1c2ccccc2-c2ccccc21  \\\n",
              "0                                                0.0                         \n",
              "1                                                0.0                         \n",
              "2                                                0.0                         \n",
              "3                                                0.0                         \n",
              "4                                                0.0                         \n",
              "\n",
              "   buildingblock1_smiles_Cc1ccc(C(=O)O)cc1NC(=O)OCC1c2ccccc2-c2ccccc21  \\\n",
              "0                                                0.0                     \n",
              "1                                                0.0                     \n",
              "2                                                0.0                     \n",
              "3                                                0.0                     \n",
              "4                                                0.0                     \n",
              "\n",
              "   buildingblock1_smiles_O=C(NC(CC1CCCCC1)C(=O)O)OCC1c2ccccc2-c2ccccc21  \\\n",
              "0                                                0.0                      \n",
              "1                                                0.0                      \n",
              "2                                                0.0                      \n",
              "3                                                0.0                      \n",
              "4                                                0.0                      \n",
              "\n",
              "   buildingblock1_smiles_O=C(NC(Cc1ccccc1)C(=O)O)OCC1c2ccccc2-c2ccccc21  \\\n",
              "0                                                0.0                      \n",
              "1                                                0.0                      \n",
              "2                                                0.0                      \n",
              "3                                                0.0                      \n",
              "4                                                0.0                      \n",
              "\n",
              "   buildingblock1_smiles_O=C(N[C@@H](Cc1cccnc1)C(=O)O)OCC1c2ccccc2-c2ccccc21  \\\n",
              "0                                                0.0                           \n",
              "1                                                0.0                           \n",
              "2                                                0.0                           \n",
              "3                                                0.0                           \n",
              "4                                                0.0                           \n",
              "\n",
              "   buildingblock1_smiles_O=C(N[C@H](Cc1ccc(-c2ccccc2)cc1)C(=O)O)OCC1c2ccccc2-c2ccccc21  \\\n",
              "0                                                0.0                                     \n",
              "1                                                0.0                                     \n",
              "2                                                0.0                                     \n",
              "3                                                0.0                                     \n",
              "4                                                0.0                                     \n",
              "\n",
              "   buildingblock1_smiles_O=C(Nc1cc(C(=O)O)cc(C(=O)O)c1)OCC1c2ccccc2-c2ccccc21  \\\n",
              "0                                                0.0                            \n",
              "1                                                0.0                            \n",
              "2                                                0.0                            \n",
              "3                                                0.0                            \n",
              "4                                                0.0                            \n",
              "\n",
              "   ...  buildingblock3_smiles_Nc1cccc2ocnc12  \\\n",
              "0  ...                                   0.0   \n",
              "1  ...                                   0.0   \n",
              "2  ...                                   0.0   \n",
              "3  ...                                   0.0   \n",
              "4  ...                                   0.0   \n",
              "\n",
              "   buildingblock3_smiles_Nc1cn[nH]c1  buildingblock3_smiles_Nc1cncc(F)c1  \\\n",
              "0                                0.0                                 0.0   \n",
              "1                                0.0                                 0.0   \n",
              "2                                0.0                                 0.0   \n",
              "3                                0.0                                 0.0   \n",
              "4                                0.0                                 0.0   \n",
              "\n",
              "   buildingblock3_smiles_Nc1n[nH]c2cc(F)ccc12  \\\n",
              "0                                         0.0   \n",
              "1                                         0.0   \n",
              "2                                         0.0   \n",
              "3                                         0.0   \n",
              "4                                         0.0   \n",
              "\n",
              "   buildingblock3_smiles_Nc1nc(Cl)c2[nH]cnc2n1  \\\n",
              "0                                          0.0   \n",
              "1                                          0.0   \n",
              "2                                          0.0   \n",
              "3                                          0.0   \n",
              "4                                          0.0   \n",
              "\n",
              "   buildingblock3_smiles_Nc1nc2c(s1)CN(C(=O)OCc1ccccc1)CC2  \\\n",
              "0                                                0.0         \n",
              "1                                                0.0         \n",
              "2                                                0.0         \n",
              "3                                                0.0         \n",
              "4                                                0.0         \n",
              "\n",
              "   buildingblock3_smiles_Nc1nc[nH]n1  buildingblock3_smiles_Nc1ncnc(Cl)c1Cl  \\\n",
              "0                                0.0                                    0.0   \n",
              "1                                0.0                                    0.0   \n",
              "2                                0.0                                    0.0   \n",
              "3                                0.0                                    0.0   \n",
              "4                                0.0                                    0.0   \n",
              "\n",
              "   buildingblock3_smiles_Nc1nncs1  buildingblock3_smiles_Nc1nnn[nH]1  \n",
              "0                             0.0                                0.0  \n",
              "1                             0.0                                0.0  \n",
              "2                             0.0                                0.0  \n",
              "3                             0.0                                0.0  \n",
              "4                             0.0                                0.0  \n",
              "\n",
              "[5 rows x 100 columns]"
            ]
          },
          "execution_count": 50,
          "metadata": {},
          "output_type": "execute_result"
        }
      ],
      "source": [
        "proteina3.head()"
      ]
    },
    {
      "cell_type": "code",
      "execution_count": 51,
      "metadata": {
        "colab": {
          "base_uri": "https://localhost:8080/"
        },
        "id": "FTpDAiaJAzf5",
        "outputId": "cd3072c8-945f-4a52-e754-49c17c237500"
      },
      "outputs": [
        {
          "data": {
            "text/plain": [
              "(100000, 100)"
            ]
          },
          "execution_count": 51,
          "metadata": {},
          "output_type": "execute_result"
        }
      ],
      "source": [
        "proteina3.shape"
      ]
    },
    {
      "cell_type": "markdown",
      "metadata": {
        "id": "xSowXyTVUvpV"
      },
      "source": [
        "Luego, se realiza la separación de las variables del conjunto de datos `proteina3`. Almacenando en `X3` todas las columnas del conjunto de datos, excepto la columna binds usando el método `drop()`, y en `y3` los valores de la columna binds, que representa la variable dependiente o el objetivo del modelo."
      ]
    },
    {
      "cell_type": "code",
      "execution_count": 52,
      "metadata": {
        "id": "ua_9UBW5Azf6"
      },
      "outputs": [],
      "source": [
        "X3 = proteina3.drop(columns = ['binds'])\n",
        "y3 = proteina3['binds']"
      ]
    },
    {
      "cell_type": "markdown",
      "metadata": {
        "id": "CkD1xwXvUvpV"
      },
      "source": [
        "Seguido, se realiza la partición del conjunto de datos utilizando el método `train_test_split()`, configurando el parámetro `stratify` igual al conjunto de etiquetas (`stratify = y3`). Además se fija un `random_state = 11`.\n",
        "\n",
        "Luego se verifica el tamaño del conjunto de entrentamiento y el de test."
      ]
    },
    {
      "cell_type": "code",
      "execution_count": 53,
      "metadata": {
        "id": "fu15WOKOAzf6"
      },
      "outputs": [],
      "source": [
        "# Dividir el conjunto de entrenamiento en dos partes: entrenamiento y test\n",
        "X_train3, X_test3, y_train3, y_test3 = train_test_split(X3, y3, stratify = y3, random_state = 11)"
      ]
    },
    {
      "cell_type": "code",
      "execution_count": 45,
      "metadata": {
        "colab": {
          "base_uri": "https://localhost:8080/"
        },
        "id": "LAit3Cg-Azf6",
        "outputId": "558e1ed6-425b-4498-b431-bdcdcdb9c630"
      },
      "outputs": [
        {
          "data": {
            "text/plain": [
              "75000"
            ]
          },
          "execution_count": 45,
          "metadata": {},
          "output_type": "execute_result"
        }
      ],
      "source": [
        "len(y_train3)"
      ]
    },
    {
      "cell_type": "code",
      "execution_count": 54,
      "metadata": {
        "colab": {
          "base_uri": "https://localhost:8080/"
        },
        "id": "DeMpQLTYAzf7",
        "outputId": "c86c0dce-1e3c-43ee-82b6-9c35e870d315"
      },
      "outputs": [
        {
          "data": {
            "text/plain": [
              "25000"
            ]
          },
          "execution_count": 54,
          "metadata": {},
          "output_type": "execute_result"
        }
      ],
      "source": [
        "len(y_test3)"
      ]
    },
    {
      "cell_type": "markdown",
      "metadata": {
        "id": "xU9bKXkCAzf7"
      },
      "source": [
        "### **Modelo KNN**"
      ]
    },
    {
      "cell_type": "markdown",
      "metadata": {
        "id": "Ai7MoSrCUvpV"
      },
      "source": [
        "Siguiendo, se repite el mismo proceso y con los mismos hiperparámetros que la `proteina1` para el modelo `KNN`"
      ]
    },
    {
      "cell_type": "code",
      "execution_count": 55,
      "metadata": {
        "id": "zSK_9NEVAzf7"
      },
      "outputs": [],
      "source": [
        "pipeline_knn3 = Pipeline([('scaler', StandardScaler()), ('clasificador', KNeighborsClassifier())])\n",
        "\n",
        "param_grid_knn3 = [{ 'clasificador__n_neighbors': range(2 , 100),# Número de vecinos del modelo\n",
        "                   'clasificador__weights': ['distance']}]\n",
        "\n",
        "kf3 = StratifiedKFold(n_splits = 5, shuffle = True, random_state = 11)\n",
        "\n",
        "grid_met3 = GridSearchCV(pipeline_knn3, param_grid_knn3, cv = kf3, scoring = 'roc_auc')"
      ]
    },
    {
      "cell_type": "code",
      "execution_count": 56,
      "metadata": {
        "colab": {
          "base_uri": "https://localhost:8080/"
        },
        "id": "9_ajxebCAzf8",
        "outputId": "2bb6c4e3-0214-4711-da03-8dd536cc7525"
      },
      "outputs": [
        {
          "name": "stdout",
          "output_type": "stream",
          "text": [
            "Mejor parámetro: {'clasificador__n_neighbors': 99, 'clasificador__weights': 'distance'}\n",
            "Mejor AUC en conjunto de entrenamiento:  0.8223059443930285\n",
            "Mejor AUC en conjunto de prueba:  0.8065904161311055\n"
          ]
        }
      ],
      "source": [
        "grid_met3.fit(X_train3, y_train3)\n",
        "print(\"Mejor parámetro:\", grid_met3.best_params_)\n",
        "print(\"Mejor AUC en conjunto de entrenamiento: \",grid_met3.best_score_)\n",
        "\n",
        "# Predicción en conjunto de prueba\n",
        "y_pred3 = grid_met3.predict(X_test3)\n",
        "prob_knn3 = grid_met3.predict_proba(X_test3)[:, 1]  \n",
        "\n",
        "# AUC en conjunto de prueba\n",
        "auc_prueba3 = roc_auc_score(y_test3, prob_knn3)\n",
        "print(\"Mejor AUC en conjunto de prueba: \", auc_prueba3)"
      ]
    },
    {
      "cell_type": "markdown",
      "metadata": {},
      "source": [
        "El modelo K-NN con **99** vecinos y pesos basados en la distancia ha logrado un rendimiento aceptable. En el conjunto de entrenamiento, se obtiene un AUC de **0.822**, lo que indica que el modelo es capaz de separar correctamente las clases con un buen nivel de precisión en los datos de entrenamiento.\n",
        "\n",
        "En el conjunto de prueba, el AUC es de **0.807**, lo cual sugiere que el rendimiento del modelo es bueno.\n"
      ]
    },
    {
      "cell_type": "markdown",
      "metadata": {
        "id": "VWz6Prh3Azf8"
      },
      "source": [
        "### **Modelo Regresión Logística**"
      ]
    },
    {
      "cell_type": "markdown",
      "metadata": {
        "id": "lUrEaOwsVF9w"
      },
      "source": [
        "Siguiendo, se repite el mismo proceso y con los mismos hiperparámetros que la `proteina1` para el modelo `Regresión Logistica`"
      ]
    },
    {
      "cell_type": "code",
      "execution_count": 57,
      "metadata": {
        "id": "26lybyZdAzf8"
      },
      "outputs": [],
      "source": [
        "pipeline_rl3 = Pipeline([ ('scaler', StandardScaler()), ('clasificador', LogisticRegression(max_iter = 1000))])\n",
        "\n",
        "param_grid_lr3 = {'clasificador__C': [0.01, 0.1, 1, 10, 100, 1000]}\n",
        "\n",
        "kf3 = StratifiedKFold(n_splits = 5, shuffle = True, random_state = 11)\n",
        "\n",
        "grid_rl3 = GridSearchCV(pipeline_rl3, param_grid_lr3, cv = kf3, scoring = 'roc_auc')\n"
      ]
    },
    {
      "cell_type": "code",
      "execution_count": 58,
      "metadata": {
        "colab": {
          "base_uri": "https://localhost:8080/"
        },
        "id": "YvyKrGAxAzf9",
        "outputId": "60949447-b3eb-4b9b-8283-6d2ca4f2cafd"
      },
      "outputs": [
        {
          "name": "stdout",
          "output_type": "stream",
          "text": [
            "Mejor parámetro: {'clasificador__C': 0.01}\n",
            "Mejor AUC en conjunto de entrenamiento: 0.8985993904078861\n",
            "Mejor AUC en conjunto de prueba:  0.857072537139114\n"
          ]
        }
      ],
      "source": [
        "grid_rl3.fit(X_train3, y_train3)\n",
        "print(\"Mejor parámetro:\", grid_rl3.best_params_)\n",
        "print(\"Mejor AUC en conjunto de entrenamiento:\", grid_rl3.best_score_)\n",
        "\n",
        "# Predicción en conjunto de prueba\n",
        "y_pred33 = grid_rl3.predict(X_test3)\n",
        "prob_knn33 = grid_rl3.predict_proba(X_test3)[:, 1] \n",
        "\n",
        "# AUC en conjunto de prueba\n",
        "auc_prueba33 = roc_auc_score(y_test3, prob_knn33)\n",
        "print(\"Mejor AUC en conjunto de prueba: \", auc_prueba33)"
      ]
    },
    {
      "cell_type": "markdown",
      "metadata": {},
      "source": [
        "El modelo de **Regresión Logística**, con un valor de **C = 0.01** , logró un AUC de **0.899** en el conjunto de entrenamiento. En el conjunto de prueba, el AUC fue de **0.857**, lo que indica un buen rendimiento al enfrentarse a estos datos. Aunque hay una leve disminución en el AUC respecto al conjunto de entrenamiento, no parece haber signos de sobreajuste significativos. \n"
      ]
    },
    {
      "cell_type": "markdown",
      "metadata": {
        "id": "lVpHvz_DAzf9"
      },
      "source": [
        "### **Cuadro 1**"
      ]
    },
    {
      "cell_type": "markdown",
      "metadata": {
        "id": "1kCSL3rhVF95"
      },
      "source": [
        "Ahora se realizan predicciones utilizando diferentes métricas: `precision`, `recall`, `F1-Score` y `ROC_AUC`, para evaluar el rendimiento de cada modelo utilizado."
      ]
    },
    {
      "cell_type": "code",
      "execution_count": 59,
      "metadata": {
        "colab": {
          "base_uri": "https://localhost:8080/",
          "height": 125
        },
        "id": "tGuFF8yFAzf9",
        "outputId": "a499d96b-875e-4c6a-e84d-bb3785697ac9"
      },
      "outputs": [
        {
          "data": {
            "text/html": [
              "<div>\n",
              "<style scoped>\n",
              "    .dataframe tbody tr th:only-of-type {\n",
              "        vertical-align: middle;\n",
              "    }\n",
              "\n",
              "    .dataframe tbody tr th {\n",
              "        vertical-align: top;\n",
              "    }\n",
              "\n",
              "    .dataframe thead th {\n",
              "        text-align: right;\n",
              "    }\n",
              "</style>\n",
              "<table border=\"1\" class=\"dataframe\">\n",
              "  <thead>\n",
              "    <tr style=\"text-align: right;\">\n",
              "      <th></th>\n",
              "      <th>Modelo</th>\n",
              "      <th>Precisión</th>\n",
              "      <th>Recall</th>\n",
              "      <th>F1 Score</th>\n",
              "      <th>AUC</th>\n",
              "    </tr>\n",
              "  </thead>\n",
              "  <tbody>\n",
              "    <tr>\n",
              "      <th>0</th>\n",
              "      <td>K-nn</td>\n",
              "      <td>0.416667</td>\n",
              "      <td>0.048077</td>\n",
              "      <td>0.086207</td>\n",
              "      <td>0.806590</td>\n",
              "    </tr>\n",
              "    <tr>\n",
              "      <th>1</th>\n",
              "      <td>Regresión logística</td>\n",
              "      <td>0.272727</td>\n",
              "      <td>0.028846</td>\n",
              "      <td>0.052174</td>\n",
              "      <td>0.857073</td>\n",
              "    </tr>\n",
              "  </tbody>\n",
              "</table>\n",
              "</div>"
            ],
            "text/plain": [
              "                Modelo  Precisión    Recall  F1 Score       AUC\n",
              "0                 K-nn   0.416667  0.048077  0.086207  0.806590\n",
              "1  Regresión logística   0.272727  0.028846  0.052174  0.857073"
            ]
          },
          "execution_count": 59,
          "metadata": {},
          "output_type": "execute_result"
        }
      ],
      "source": [
        "# Se hacen las predicciones para poder comparar con las diferentes métricas\n",
        "KYP3 = grid_met3.predict(X_test3)\n",
        "LYP3 = grid_rl3.predict(X_test3)\n",
        "\n",
        "prob_knn3 = grid_met3.predict_proba(X_test3)[:, 1]\n",
        "prob_lr3 = grid_rl3.predict_proba(X_test3)[:, 1]\n",
        "\n",
        "tabla3 = {\n",
        "    'Modelo': ['K-nn', 'Regresión logística'],\n",
        "        'Precisión': [\n",
        "            precision_score(y_test3, KYP3),\n",
        "            precision_score(y_test3, LYP3)\n",
        "        ],\n",
        "        'Recall': [\n",
        "            recall_score(y_test3, KYP3),\n",
        "            recall_score(y_test3, LYP3)\n",
        "        ],\n",
        "        'F1 Score': [\n",
        "            f1_score(y_test3, KYP3),\n",
        "            f1_score(y_test3, LYP3)\n",
        "        ],\n",
        "        'AUC': [\n",
        "            roc_auc_score(y_test3, prob_knn3),\n",
        "            roc_auc_score(y_test3, prob_lr3)\n",
        "    ]\n",
        "}\n",
        "\n",
        "cuadro3 = pd.DataFrame(tabla3)\n",
        "cuadro3\n"
      ]
    },
    {
      "cell_type": "markdown",
      "metadata": {},
      "source": [
        "Al analizar los resultados de los modelos **K-NN** y **Regresión Logística**, se puede observar lo siguiente:\n",
        "\n",
        "- El modelo **K-NN** presenta una precisión de **0.4167**, lo que indica que algo más del 41% de las predicciones de clase positiva son correctas. Sin embargo, tiene un recall bajo de 0.0481, lo que sugiere que el modelo identifica correctamente menos del 5% de las muestras que realmente pertenecen a la clase positiva. \n",
        "\n",
        "- El modelo de **Regresión Logística** tiene una precisión de **0.2727**, inferior a la de K-NN, lo que significa que el 27% de las predicciones positivas son correctas. El recall es aún más bajo, con solo **0.0288**, indicando que menos del 3% de las muestras positivas son correctamente identificadas. \n",
        "\n",
        "En conclusión, aunque ambos modelos tienen problemas para identificar correctamente la clase positiva, el modelo de **Regresión Logística** tiene un mejor rendimiento en términos de AUC, lo que indica una mejor capacidad para discriminar entre las clases positivas y negativas, mientras que **K-NN** tiene una mayor precisión en las predicciones positivas.\n"
      ]
    },
    {
      "cell_type": "markdown",
      "metadata": {
        "id": "0pRiqdSnAzf9"
      },
      "source": [
        "### **Matrices de confusión**"
      ]
    },
    {
      "cell_type": "code",
      "execution_count": 60,
      "metadata": {
        "id": "FyOHsyocAzf-"
      },
      "outputs": [],
      "source": [
        "colors = ['#FF69B4', '#FF6EB4', '#EE6AA7', '#CD6090', '#8B3A62']\n",
        "cmap = LinearSegmentedColormap.from_list(\"custom_pink\", colors)"
      ]
    },
    {
      "cell_type": "code",
      "execution_count": 61,
      "metadata": {
        "colab": {
          "base_uri": "https://localhost:8080/",
          "height": 477
        },
        "id": "z4QS90bMAzf-",
        "outputId": "aa2e5657-c054-4cd5-a1f9-054440261c76"
      },
      "outputs": [
        {
          "data": {
            "image/png": "[encoded data removed]",
            "text/plain": [
              "<Figure size 1600x600 with 4 Axes>"
            ]
          },
          "metadata": {},
          "output_type": "display_data"
        }
      ],
      "source": [
        "fig, axes = plt.subplots(1, 2, figsize=(16, 6))\n",
        "\n",
        "# Gráfico de la Matriz de Confusión para KNN\n",
        "\n",
        "y_pred_knn3 = KYP3\n",
        "cm_knn3 = confusion_matrix(y_test3, y_pred_knn3)\n",
        "sns.heatmap(cm_knn3, annot = True, fmt ='d', cmap = cmap, xticklabels = ['Predicción: 0', 'Predicción: 1'],\n",
        "            yticklabels = ['Real: 0', 'Real: 1'], ax = axes[0])\n",
        "axes[0].set_xlabel('Predicciones')\n",
        "axes[0].set_ylabel('Valores Reales')\n",
        "axes[0].set_title('Matriz de Confusión para el KNN')\n",
        "\n",
        "# Gráfico de la Matriz de Confusión para la Regresión Logística\n",
        "\n",
        "y_pred_lr3 = LYP3\n",
        "cm_logistic3 = confusion_matrix(y_test3, y_pred_lr3)  # Crear la matriz de confusión\n",
        "sns.heatmap(cm_logistic3, annot = True,  fmt ='d', cmap = cmap, xticklabels=['Predicción: 0', 'Predicción: 1'],\n",
        "            yticklabels=['Real: 0', 'Real: 1'], ax = axes[1])\n",
        "axes[1].set_xlabel('Predicciones')\n",
        "axes[1].set_ylabel('Valores Reales')\n",
        "axes[1].set_title('Matriz de Confusión para la Regresión Logística')\n",
        "\n",
        "\n",
        "plt.tight_layout()\n",
        "plt.show()\n"
      ]
    },
    {
      "cell_type": "markdown",
      "metadata": {},
      "source": [
        "Al observar las matrices de confusión se puede decir lo siguiente:\n",
        "\n",
        "- En el modelo **K-NN**, de las **24896** muestras negativas (clase 0), **7** fueron mal clasificadas como positivas (clase 1). De las **104** muestras positivas (clase 1), solo **5** fueron correctamente clasificadas como positivas, lo que muestra un bajo rendimiento en la detección de la clase positiva. \n",
        "\n",
        "- En el modelo de **Regresión Logística**, de las **24888** muestras negativas, **8** fueron mal clasificadas como positivas. Sin embargo, de las **104** muestras positivas, solo **3** fueron correctamente clasificadas como positivas, lo que también indica un bajo rendimiento en la detección de positivos. \n",
        "\n",
        "En conclusión, aunque la regresión logística comete más errores en las muestras negativas que K-NN, ambos modelos tienen dificultades para clasificar correctamente las muestras de la clase positiva."
      ]
    },
    {
      "cell_type": "markdown",
      "metadata": {
        "id": "p1gVoB1NAzf-"
      },
      "source": [
        "### **Curvas ROC**"
      ]
    },
    {
      "cell_type": "code",
      "execution_count": 62,
      "metadata": {
        "colab": {
          "base_uri": "https://localhost:8080/",
          "height": 718
        },
        "id": "2UOqOERPAzf-",
        "outputId": "35eae070-8d0f-4cff-9d05-af65e458dd30"
      },
      "outputs": [
        {
          "data": {
            "image/png": "[encoded data removed]",
            "text/plain": [
              "<Figure size 800x800 with 1 Axes>"
            ]
          },
          "metadata": {},
          "output_type": "display_data"
        }
      ],
      "source": [
        "y_pred_prob_knn3 = grid_met3.predict_proba(X_test3)[:, 1]  # Probabilidades clase positiva para K-NN\n",
        "y_pred_prob_lr3 = grid_rl3.predict_proba(X_test3)[:, 1]  # Probabilidades clase positiva para Regresión Logística\n",
        "\n",
        "# Valores para la curva ROC para K-NN\n",
        "fpr_knn3, tpr_knn3, _ = roc_curve(y_test3, y_pred_prob_knn3)\n",
        "roc_auc_knn3 = roc_auc_score(y_test3, y_pred_prob_knn3)\n",
        "\n",
        "# Valores para la curva ROC para Regresión Logística\n",
        "fpr_lr3, tpr_lr3, _ = roc_curve(y_test3, y_pred_prob_lr3)\n",
        "roc_auc_lr3 = roc_auc_score(y_test3, y_pred_prob_lr3)\n",
        "\n",
        "# Graficar ambas curvas ROC en el mismo gráfico\n",
        "plt.figure(figsize=(8, 8))\n",
        "plt.plot(fpr_knn3, tpr_knn3, color = '#FF69B4', label = f'K-NN (AUC = {roc_auc_knn3:.2f})', lw = 4)\n",
        "plt.plot(fpr_lr3, tpr_lr3, color = '#8B3A62', label = f'Regresión Logística (AUC = {roc_auc_lr3:.2f})', lw = 4)\n",
        "\n",
        "\n",
        "plt.xlabel('Tasa de Falsos Positivos (FPR)')\n",
        "plt.ylabel('Tasa de Verdaderos Positivos (TPR)')\n",
        "plt.title('Curvas ROC')\n",
        "plt.legend(loc='lower right')\n",
        "plt.grid(True)\n",
        "plt.show()\n"
      ]
    },
    {
      "cell_type": "markdown",
      "metadata": {},
      "source": [
        "La gráfica ROC muestra que el modelo **Regresión Logística** tiene un **AUC** de **0.86**, superando al **K-NN**, que tiene un AUC de **0.81**. Esto indica que la **Regresión Logística** es más efectiva en la discriminación entre clases positivas y negativas, con una curva más estable y consistente. Aunque ambos modelos tienen un rendimiento razonable, la regresión logística demuestra una mayor capacidad de clasificación."
      ]
    },
    {
      "cell_type": "markdown",
      "metadata": {},
      "source": []
    }
  ],
  "metadata": {
    "accelerator": "TPU",
    "colab": {
      "gpuType": "V28",
      "provenance": []
    },
    "kernelspec": {
      "display_name": "Python 3",
      "name": "python3"
    },
    "language_info": {
      "codemirror_mode": {
        "name": "ipython",
        "version": 3
      },
      "file_extension": ".py",
      "mimetype": "text/x-python",
      "name": "python",
      "nbconvert_exporter": "python",
      "pygments_lexer": "ipython3",
      "version": "3.9.19"
    }
  },
  "nbformat": 4,
  "nbformat_minor": 0
}
