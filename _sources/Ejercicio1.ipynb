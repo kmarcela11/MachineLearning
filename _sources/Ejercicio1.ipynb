{
 "cells": [
  {
   "cell_type": "markdown",
   "metadata": {},
   "source": [
    "# **Ejercicio 1**"
   ]
  },
  {
   "cell_type": "markdown",
   "metadata": {},
   "source": [
    "## **Ejercicio Notas de Clase**\n",
    "Considere los ejemplos vistos en clase, en los que se analizó la implementación de los modelos: *k-nn*, *regresión lineal*, *regresión logística*. Realice hiperparametrización y validación cruzada usando *(i) GridSearchCV y Pipeline vs (ii) Manualmente, sin usar GridSearchCV y Pipeline (Use ciclos FOR, WHILE, etc,...)*. Verifique que los scores obtenidos en los ítems *(i)-(ii)* son los mismos. Los ejercicios son los siguientes:\n",
    "\n",
    "-  Breast Cancer: (KNN, LogisticRegression) Decida cual es la métrica de mayor importancia en la aplicación de detección de cancer (métrica de negocio). Utilice esta métrica para la evaluación y selección del modelo y justifique su respuesta. Los resultados deben ser presentados usando el Cuadro 1. El estudiante que obtenga el mejor score con esta métrica, será premiado con una décima para el corte. Los datos deben ser cargados mediante el siguiente par de líneas:\n",
    "\n",
    "        • from sklearn.datasets import load_breast_cancer\n",
    "        • cancer = load_breast_cancer()\n",
    "\n",
    "- Boston Housing: (LinearRegression, KNN). Utilice la métrica R2 y RMSE durante la evaluación y selección del modelo. Los resultados deben ser presentados usando el Cuadro 2. Realice un gráfico en el que muestre en los conjuntos de entrenamiento y test, el precio original y el predicho. El estudiante que obtenga el mejor score con esta métrica, será premiado con una décima para el corte. Los datos deben ser cargados mediante el siguiente par de líneas:\n",
    "\n",
    "        • import mglearn\n",
    "        • X, y = mglearn.datasets.load_extended_boston())"
   ]
  },
  {
   "cell_type": "markdown",
   "metadata": {},
   "source": [
    "\\[\n",
    "\\begin{array}{|c|c|c|c|c|}\n",
    "\\hline\n",
    "\\textbf{Modelo} & \\textbf{precision} & \\textbf{recall} & \\textbf{f1-score} & \\textbf{AUC} \\\\\n",
    "\\hline\n",
    "\\text{K-NN} & \\cdots & \\cdots & \\cdots & \\cdots \\\\\n",
    "\\text{Logistic Regression} & \\cdots & \\cdots & \\cdots & \\cdots \\\\\n",
    "\\hline\n",
    "\\end{array}\n",
    "\\]\n",
    "\n",
    "\\text{Cuadro 1: Modelo de clasificación para detección de fraude.}\n",
    "\n",
    "\n",
    "\\[\n",
    "\\begin{array}{|c|c|c|c|c|c|}\n",
    "\\hline\n",
    "\\textbf{Modelo} & \\textbf{MAPE} & \\textbf{MAE} & \\textbf{RMSE} & \\textbf{MSE} & \\textbf{R2} \\\\\n",
    "\\hline\n",
    "\\text{K-NN} & \\cdots & \\cdots & \\cdots & \\cdots & \\cdots \\\\\n",
    "\\text{Linear Regression} & \\cdots & \\cdots & \\cdots & \\cdots & \\cdots \\\\\n",
    "\\hline\n",
    "\\end{array}\n",
    "\\]\n",
    "\n",
    "\\text{Cuadro 2: Modelo de regresión para velocidad del viento.}\n"
   ]
  }
 ],
 "metadata": {
  "kernelspec": {
   "display_name": "ml_venv",
   "language": "python",
   "name": "python3"
  },
  "language_info": {
   "name": "python",
   "version": "3.9.19"
  }
 },
 "nbformat": 4,
 "nbformat_minor": 2
}
