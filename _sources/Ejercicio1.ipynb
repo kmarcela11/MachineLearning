{
 "cells": [
  {
   "cell_type": "markdown",
   "metadata": {},
   "source": [
    "# **Ejercicio 1**"
   ]
  },
  {
   "cell_type": "markdown",
   "metadata": {},
   "source": [
    "## **Ejercicio Notas de Clase**\n",
    "Considere los ejemplos vistos en clase, en los que se analizó la implementación de los modelos: *k-nn*, *regresión lineal*, *regresión logística*. Realice hiperparametrización y validación cruzada usando *(i) GridSearchCV y Pipeline vs (ii) Manualmente, sin usar GridSearchCV y Pipeline (Use ciclos FOR, WHILE, etc,...)*. Verifique que los scores obtenidos en los ítems *(i)-(ii)* son los mismos. Los ejercicios son los siguientes:\n",
    "\n",
    "-  Breast Cancer: (KNN, LogisticRegression) Decida cual es la métrica de mayor importancia en la aplicación de detección de cancer (métrica de negocio). Utilice esta métrica para la evaluación y selección del modelo y justifique su respuesta. Los resultados deben ser presentados usando el Cuadro 1. El estudiante que obtenga el mejor score con esta métrica, será premiado con una décima para el corte. Los datos deben ser cargados mediante el siguiente par de líneas:\n",
    "\n",
    "        • from sklearn.datasets import load_breast_cancer\n",
    "        • cancer = load_breast_cancer()\n",
    "\n",
    "- Boston Housing: (LinearRegression, KNN). Utilice la métrica R2 y RMSE durante la evaluación y selección del modelo. Los resultados deben ser presentados usando el Cuadro 2. Realice un gráfico en el que muestre en los conjuntos de entrenamiento y test, el precio original y el predicho. El estudiante que obtenga el mejor score con esta métrica, será premiado con una décima para el corte. Los datos deben ser cargados mediante el siguiente par de líneas:\n",
    "\n",
    "        • import mglearn\n",
    "        • X, y = mglearn.datasets.load_extended_boston())"
   ]
  },
  {
   "cell_type": "markdown",
   "metadata": {},
   "source": [
    "**Cuadro 1: Modelo de clasificación para detección de fraude**\n",
    "\n",
    "| **Modelo**            | **precision** | **recall** | **f1-score** | **AUC** |\n",
    "|-----------------------|---------------|------------|--------------|---------|\n",
    "| K-NN                  | ...        | ...          | ...           | ...       |\n",
    "| Logistic Regression   | ...           | ...          | ...            | ...       |\n",
    "\n",
    "\n",
    "\n",
    "\n",
    "\n",
    "\n",
    "**Cuadro 2: Modelo de regresión para velocidad del viento**\n",
    "\n",
    "| **Modelo**            | **MAPE** | **MAE** | **RMSE** | **MSE** | **R2** |\n",
    "|-----------------------|----------|---------|----------|---------|--------|\n",
    "| K-NN                  | ...      | ...      | ...       | ...      | ...     |\n",
    "| Linear Regression     | ...      | ...      | ...       | ...      | ...     |\n",
    "\n",
    "\n",
    "\n"
   ]
  },
  {
   "cell_type": "markdown",
   "metadata": {},
   "source": [
    "## **Librerias necesarias**"
   ]
  },
  {
   "cell_type": "code",
   "execution_count": 131,
   "metadata": {},
   "outputs": [],
   "source": [
    "from sklearn.datasets import load_breast_cancer\n",
    "from sklearn.model_selection import train_test_split\n",
    "from sklearn.neighbors import KNeighborsClassifier\n",
    "from sklearn.linear_model import LogisticRegression\n",
    "from sklearn.model_selection import GridSearchCV\n",
    "from sklearn.preprocessing import StandardScaler\n",
    "from sklearn.model_selection import StratifiedKFold\n",
    "from sklearn.preprocessing import MinMaxScaler\n",
    "import warnings\n",
    "import pandas as pd\n",
    "from sklearn.pipeline import Pipeline\n",
    "warnings.filterwarnings(\"ignore\")"
   ]
  },
  {
   "cell_type": "markdown",
   "metadata": {},
   "source": [
    "## **Breast Cancer**"
   ]
  },
  {
   "cell_type": "markdown",
   "metadata": {},
   "source": [
    "En este caso, contamos con un conjunto de datos sobre el cáncer de mama (`Breast Cancer`). Nótese que al tratarse de un tema de salud crítico, es de vital importancia escoger la métrica más acertada para asegurarnos de dar las mejores estimaciones. Es por ello, que en este caso, decidimos trabajar con *`Recall`*. Esta métrica nos permitirá limitar los falsos negativos, es decir, aquellas observaciones que en realidad SI tienen cáncer pero en realidad fueron predichas como que NO tienen. \n",
    "\n"
   ]
  },
  {
   "cell_type": "markdown",
   "metadata": {},
   "source": [
    "Inicialmente se hace el cargue del conjunto de datos. "
   ]
  },
  {
   "cell_type": "code",
   "execution_count": 132,
   "metadata": {},
   "outputs": [],
   "source": [
    "data_cancer = load_breast_cancer() # Datos\n",
    "X =  data_cancer.data # Características\n",
    "y = data_cancer.target # Etiquetas"
   ]
  },
  {
   "cell_type": "markdown",
   "metadata": {},
   "source": [
    "Dividimos el conjunto de entrenamiento y prueba"
   ]
  },
  {
   "cell_type": "code",
   "execution_count": 133,
   "metadata": {},
   "outputs": [],
   "source": [
    "X_train, X_test, y_train, y_test = train_test_split(X, y, stratify = y, random_state = 11)\n",
    "# stratify = y :  garantiza que tanto el conjunto de entrenamiento como el de prueba representen la distribución de las clases."
   ]
  },
  {
   "cell_type": "markdown",
   "metadata": {},
   "source": [
    "### **Método GridSearch**"
   ]
  },
  {
   "cell_type": "code",
   "execution_count": 134,
   "metadata": {},
   "outputs": [
    {
     "name": "stdout",
     "output_type": "stream",
     "text": [
      "Mejores parámetros: {'clasificador__n_neighbors': 13, 'clasificador__weights': 'uniform'}\n",
      "Mejor Recall: 1.00\n",
      "Score: 1.0\n"
     ]
    }
   ],
   "source": [
    "# Se usa el pipeline donde primero se escala las características de los datos\n",
    "# Luego se ajusta el modelo de clasificación\n",
    "pipeline_knn = Pipeline([('scaler', MinMaxScaler()), ('clasificador', KNeighborsClassifier())]) \n",
    "\n",
    "# Se usa el param_grid para definir los hiperparámetros de los modelos a evaluar.\n",
    "param_grid_knn = [{ 'clasificador__n_neighbors': range(1,50), # Número de vecinos del modelo\n",
    "                   'clasificador__weights': ['uniform', 'distance']}] \n",
    "\n",
    "# Aplicación del método GridSearchCV para KNN\n",
    "grid_met = GridSearchCV(pipeline_knn, param_grid_knn, cv = 5, scoring = 'recall')\n",
    "grid_met.fit(X_train, y_train)\n",
    "print(\"Mejores parámetros:\", grid_met.best_params_)\n",
    "print(\"Mejor Recall: {:.2f}\".format(grid_met.best_score_))\n",
    "print('Score:', grid_met.score(X_test, y_test))"
   ]
  },
  {
   "cell_type": "code",
   "execution_count": 144,
   "metadata": {},
   "outputs": [
    {
     "name": "stdout",
     "output_type": "stream",
     "text": [
      "Mejores parámetros: {'clasificador__C': 0.01}\n",
      "Mejor Recall: 1.0\n",
      "Score: 1.0\n"
     ]
    }
   ],
   "source": [
    "# Aplicación del método GridSearchCV para regresión logística\n",
    "pipeline_rl = Pipeline([ ('scaler', MinMaxScaler()), ('clasificador', LogisticRegression(max_iter = 10000,  tol=0.1))])\n",
    "param_grid_lr = {'clasificador__C': [ 0.01, 0.1, 1, 10, 100]}\n",
    "grid_rl = GridSearchCV(pipeline_rl, param_grid_lr, cv = 5, scoring='recall')\n",
    "grid_rl.fit(X_train, y_train)\n",
    "print(\"Mejores parámetros:\", grid_rl.best_params_)\n",
    "print(\"Mejor Recall:\", grid_rl.best_score_)\n",
    "print('Score:', grid_rl.score(X_test, y_test))"
   ]
  },
  {
   "cell_type": "markdown",
   "metadata": {},
   "source": [
    "### **GridSearch Manual**"
   ]
  },
  {
   "cell_type": "markdown",
   "metadata": {},
   "source": [
    "## **Boston Housting**"
   ]
  }
 ],
 "metadata": {
  "kernelspec": {
   "display_name": "ml_venv",
   "language": "python",
   "name": "python3"
  },
  "language_info": {
   "codemirror_mode": {
    "name": "ipython",
    "version": 3
   },
   "file_extension": ".py",
   "mimetype": "text/x-python",
   "name": "python",
   "nbconvert_exporter": "python",
   "pygments_lexer": "ipython3",
   "version": "3.9.19"
  }
 },
 "nbformat": 4,
 "nbformat_minor": 2
}
