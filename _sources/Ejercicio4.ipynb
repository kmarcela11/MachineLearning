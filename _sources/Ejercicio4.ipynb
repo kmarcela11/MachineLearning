{
 "cells": [
  {
   "cell_type": "markdown",
   "metadata": {
    "notebookRunGroups": {
     "groupValue": "2"
    }
   },
   "source": [
    "# **Ejercicio 4**\n",
    "##  **Modelos de Regresión** \n",
    "Considere el conjunto de datos `Open Problems– Single-Cell Perturbations`. Implemente la versión de regresión de cada uno de los modelos estudiados en clases, esto es KNN y Regresión Lineal en el conjunto de datos suministrado. Construir una tabla de error con las métricas usuales de regresión, MAPE, MAE, RMSE, MSE, R2 (ver Table 2). Utilice la métrica Mean Rowwise Root Mean Squared Error (MRRMSE) en la evaluación y validación, para seleccionar el mejor modelo de regresión."
   ]
  },
  {
   "cell_type": "markdown",
   "metadata": {},
   "source": [
    "\\[\n",
    "\\begin{array}{|c|c|c|c|c|c|}\n",
    "\\hline\n",
    "\\textbf{Modelo} & \\textbf{MAPE} & \\textbf{MAE} & \\textbf{RMSE} & \\textbf{MSE} & \\textbf{R2} \\\\\n",
    "\\hline\n",
    "\\text{K-NN} & \\cdots & \\cdots & \\cdots & \\cdots & \\cdots \\\\\n",
    "\\text{Linear Regression} & \\cdots & \\cdots & \\cdots & \\cdots & \\cdots \\\\\n",
    "\\hline\n",
    "\\end{array}\n",
    "\\]\n",
    "\n",
    "\\text{Cuadro 2: Modelo de regresión para velocidad del viento.}\n"
   ]
  }
 ],
 "metadata": {
  "kernelspec": {
   "display_name": "ml_venv",
   "language": "python",
   "name": "python3"
  },
  "language_info": {
   "name": "python",
   "version": "3.9.19"
  }
 },
 "nbformat": 4,
 "nbformat_minor": 2
}
